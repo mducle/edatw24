{
 "cells": [
  {
   "cell_type": "code",
   "execution_count": null,
   "id": "dd1f9b68-ef04-46dd-a972-a459fc745c3d",
   "metadata": {
    "scrolled": true
   },
   "outputs": [],
   "source": [
    "import numpy as np\n",
    "import matplotlib.pyplot as plt\n",
    "from pace_neutrons import Matlab\n",
    "m = Matlab()\n",
    "\n",
    "# Set SpinW to use mex files:\n",
    "swp = m.swpref()\n",
    "swp.usemex = 1"
   ]
  },
  {
   "cell_type": "markdown",
   "id": "1530615c-02b2-4f46-b55f-00ba9a02210a",
   "metadata": {},
   "source": [
    "## Excercise 4: A polarised neutron example (Ba$_3$NbFe$_3$Si$_2$O$_{14}$)\n",
    "\n",
    "In this exercise, we’ll look at Ba$_3$NbFe$_3$Si$_2$O$_{14}$ - a langasite which has a non-centrosymmetric chiral crystal structrure which then leads to a chiral magnetic structure and thence to chiral excitations \n",
    "\n",
    "Loire et al., PRL 106 207201 (2011). \n",
    "\n",
    "https://link.aps.org/pdf/10.1103/PhysRevLett.106.207201\n"
   ]
  },
  {
   "cell_type": "markdown",
   "id": "a97ff5e2-d11e-463d-8816-a73025769565",
   "metadata": {},
   "source": [
    "1. To get you started quickly, use the following template and fill in which bond correspond to which exchange `Jn` according to the Fig. 1 of the PRL paper (replace the “???” and uncomment the `addcoupling` lines)"
   ]
  },
  {
   "cell_type": "code",
   "execution_count": null,
   "id": "e2188a98-cf53-4ad2-bfed-f11a782343e5",
   "metadata": {},
   "outputs": [],
   "source": [
    "banb = m.spinw()\n",
    "banb.genlattice('lat_const',[8.539, 8.539, 5.2414], 'angled',[90, 90, 120],'sym','P 3 2 1')\n",
    "banb.addatom('label','MFe3','r',[0.24964, 0, 1/2],'S',5/2,'color','gray')\n",
    "banb.gencoupling()\n",
    "\n",
    "# Values from PRL 106 207201\n",
    "\n",
    "J1 = 0.85;\n",
    "J2 = 0.24;\n",
    "J3 = 0.053;\n",
    "J4 = 0.017;\n",
    "J5 = 0.24;\n",
    "\n",
    "banb.addmatrix('value',J1,'label','J1','color','red')\n",
    "banb.addmatrix('value',J2,'label','J2','color','lightgray')\n",
    "banb.addmatrix('value',J3,'label','J3','color','orange')\n",
    "banb.addmatrix('value',J4,'label','J4','color','b')\n",
    "banb.addmatrix('value',J5,'label','J5','color','purple')\n",
    "\n",
    "banb.addcoupling('mat', 'J1', 'bond', ?) \n",
    "banb.addcoupling('mat', 'J2', 'bond', ?) \n",
    "banb.addcoupling('mat', 'J3', 'bond', ?) \n",
    "banb.addcoupling('mat', 'J4', 'bond', ?) \n",
    "banb.addcoupling('mat', 'J5', 'bond', ?)\n",
    "\n",
    "m.plot(banb,'range',[[-0.5, 1.5], [-0.5, 1.5], [0, 1.5]]) "
   ]
  },
  {
   "cell_type": "markdown",
   "id": "c48e019e-797c-419b-aab5-efe6f8823767",
   "metadata": {},
   "source": [
    "2. Now we can uses the `optmagstr` and `gm_planar` functions to try to find the optimum magnetic structure.\n",
    "  \n",
    "   Do you understand how the code works (if not ask a demonstrator)?\n",
    "   \n",
    "   What do the parameters `x0` to `gm_planar` mean?\n",
    "   \n",
    "   Why have the values of `xmin` and `xmax` been chosen? "
   ]
  },
  {
   "cell_type": "code",
   "execution_count": null,
   "id": "04161ccd-763c-450b-899f-0a95850ee017",
   "metadata": {},
   "outputs": [],
   "source": [
    "n_spin = len(banb.matom()['S'][0]) # 3 spins\n",
    "x0   = [0, 2*np.pi/3, 4*np.pi/3, 0, 0, 1/7, 0, 0]; \n",
    "xmin = len(x0)*[0]; \n",
    "xmax = [2*np.pi, 2*np.pi, 2*np.pi, 0, 0, 1, 0, 0]; \n",
    "\n",
    "# setup initial structure\n",
    "func = m.eval('@gm_planar')\n",
    "banb.genmagstr('mode', 'func', 'func', func, 'x0', x0)\n",
    "\n",
    "# optimise\n",
    "func = m.eval('@gm_planar')\n",
    "optres = banb.optmagstr('func', func, 'xmin', xmin, 'xmax', xmax, 'tolfun', 1e-9) \n",
    "\n",
    "# Rotate the spin so the first spin is along the a-axis \n",
    "xfit = optres['x'][0]; \n",
    "xfit[:n_spin] = xfit[:n_spin] - xfit[0] \n",
    "banb.genmagstr('mode', 'func', 'func', func, 'x0', xfit)\n",
    "\n",
    "m.plot(banb,'range',[[-0.5, 1.5], [-0.5, 1.5], [0, 2.5]]) "
   ]
  },
  {
   "cell_type": "markdown",
   "id": "29aaf7d3-3e71-43d6-9320-cb4eea43b42a",
   "metadata": {},
   "source": [
    "3. Run the above code several times and look at the plot of the optimised structure – each time when the code results in a non-zero propagation vector, what is the chirality of the triangles εΔ? (compare to Fig. 1 in the PRL paper)?\n",
    "  \n",
    "   What is the chirality of the helix εH? Is there a relation between them? Run the code again until you get εΔ=-1 and εH=1 as in the PRL paper. "
   ]
  },
  {
   "cell_type": "markdown",
   "id": "58909b25-b96f-413f-973f-47ff1676fb5e",
   "metadata": {},
   "source": [
    "4. Calculate the spin wave dispersion from (0, -1, 1) to (0, -1, -2), but before you plot the dispersion (before running ``sw_egrid``) run ``sw_neutron`` with the `'pol', True` option and also set `'uv', ([0 1 0], [0 0 1])` to calculate the polarised neutron cross-sections and define the horizontal scattering plane as the (0kl) plane. Then run sw_egrid with `'component', 'Sperp'` to plot the unpolarised cross-section and then rerun the plot with `sw_egrid` with `'component', '-Myz+Mzy'` to plot the chiral cross-section.\n",
    "  \n",
    "    Compare your plots with those in the PRL paper."
   ]
  },
  {
   "cell_type": "code",
   "execution_count": null,
   "id": "13df3c94-d19c-4f07-a7ea-c12f502b0001",
   "metadata": {},
   "outputs": [],
   "source": [
    "spec = banb.spinwave(([0, -1, 1], [0, -1, -2], 500));\n",
    "spec = m.sw_neutron(spec,'pol',True,'uv',([0, 1, 0], [0, 0, 1]));\n",
    "en = np.linspace(0,6,500)\n",
    "dE = 0.25\n",
    "\n",
    "# unpolarised\n",
    "spec = m.sw_egrid(spec,'component','Sperp','Evect',en); \n",
    "# polarised\n",
    "comp = '-Myz+Mzy'\n",
    "spec_pol = m.sw_egrid(spec,'component',comp,'Evect',en); \n",
    "\n",
    "%matlab_fig -w 800 -h 300 -r 100\n",
    "\n",
    "m.figure(\"color\", \"white\")\n",
    "f1 = m.subplot(1,2,1)\n",
    "m.sw_plotspec(spec_pol,'mode','color','dE',0.25,'axLim',[-10,10],'imag',True);\n",
    "m.title(comp)\n",
    "f2 = m.subplot(1,2,2)\n",
    "m.sw_plotspec(spec,'mode','color','dE',0.25,'axLim',[0, 10]);\n",
    "m.title(\"Sperp\")\n",
    "m.colormap(f1, m.makecolormap([0, 1, 0], [1, 1, 1], [0, 0, 1], 81))"
   ]
  },
  {
   "cell_type": "markdown",
   "id": "a2ed992a-040b-4cf8-8f98-ac436df69fb9",
   "metadata": {},
   "source": [
    "Note the situation with the exchange parameters J1-J5 described by the paper corresponds to a structural chirality εT=-1 - you can get the other case by swapping the values of J3 and J5). Note that we’re using `'Mzy-Myz'` as the component instead of `'Myz-Mzy'` because it seems that the definition of the xyz coordinate system for the polarised neutron cross-section is opposite in the PRL paper compared to that in SpinW. The `<My>`, `<Mz>` components are in principle defined by x||Q, z vertical and y = x × z but it seems that in the paper this is taken as the negative of x × z. (note that in the online version of this tutorial, it was chosen to use the negative of Q instead of swapping the polarised components.) "
   ]
  },
  {
   "cell_type": "markdown",
   "id": "157f4550-6853-4968-9712-160c6473a91b",
   "metadata": {},
   "source": [
    "----"
   ]
  },
  {
   "cell_type": "markdown",
   "id": "75725b2d-4db4-497f-9f0b-4e255e8451bd",
   "metadata": {},
   "source": [
    "Unfortunately the next two examples are not working in the Python version of SpinW due to some bugs so you'll have to use Matlab for this.\n",
    "\n",
    "Go to \"Applications\" -> \"Software\" -> \"Matlab R2021b\"\n",
    "\n",
    "Then copy the file `day4_spinw2.m` to your home folder and double click on it in Matlab to open and follow the instructions."
   ]
  }
 ],
 "metadata": {
  "kernelspec": {
   "display_name": "Python 3 (ipykernel)",
   "language": "python",
   "name": "python3"
  },
  "language_info": {
   "codemirror_mode": {
    "name": "ipython",
    "version": 3
   },
   "file_extension": ".py",
   "mimetype": "text/x-python",
   "name": "python",
   "nbconvert_exporter": "python",
   "pygments_lexer": "ipython3",
   "version": "3.11.9"
  }
 },
 "nbformat": 4,
 "nbformat_minor": 5
}
