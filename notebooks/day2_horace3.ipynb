{
 "cells": [
  {
   "cell_type": "code",
   "execution_count": null,
   "id": "ea04f664-755f-42b0-b3c3-71ef6fd99d98",
   "metadata": {},
   "outputs": [],
   "source": [
    "# First we import the module and start up the Matlab interpreter\n",
    "\n",
    "import os\n",
    "import numpy as np\n",
    "from pace_neutrons import Matlab\n",
    "m = Matlab()\n"
   ]
  },
  {
   "cell_type": "markdown",
   "id": "a3749bad-505c-4f73-8949-b81dc85ea8de",
   "metadata": {},
   "source": [
    "# Simulation and Fitting"
   ]
  },
  {
   "cell_type": "markdown",
   "id": "4a93f0ab-94fb-4472-af98-df75295c5e40",
   "metadata": {},
   "source": [
    "For fitting and simulating, Horace makes a difference between the *(Q,E)* - that is `[h,k,l,E]` - and \"plot\" coordinate system (defined by the projection `[u,v,w,E]` vectors. You can fit a given `sqw` object with *either* a function defined by the `[h,k,l,E]` coordinates *or* the `[u,v,w,E]` coordinates, but you have to use different Horace functions. You can only fit `dnd` objects with functions defined on the plot coordinates `[u,v,w,E]`.\n",
    "\n",
    "Generally, you fit peak functions (Gaussian, Lorentzians, etc) using the plot coordinates - this means that a function fitting a 1D cut will accept only one dependent coordinate; a function fitting a 2D slice will require 2 input coordinates etc. \n",
    "\n",
    "On the other hand, spin wave or phonon models are defined in terms of the (Q,E) coordinates, and you usually have to give all four `[h,k,l,E]` coordinates regardless of the dimension of the cut because they are evaluated on the pixels contributing to each bin.\n",
    "\n",
    "We will start with showing a simulation of a simple peak (Gaussian) over a cut, and then show a S(Q,w) model to give you a flavour of the syntax."
   ]
  },
  {
   "cell_type": "markdown",
   "id": "5a01b71d-1d7d-42a0-9161-9e08a56dc4fb",
   "metadata": {},
   "source": [
    "## Simulation \n",
    "\n",
    "We start by going back to some 1D cuts we did earlier this morning, along the [HH0] direction at different energy transfer.\n",
    "\n",
    "(Aside, why would we want to do constant energy cuts along Q instead of constant Q cuts along energy?)"
   ]
  },
  {
   "cell_type": "code",
   "execution_count": null,
   "id": "10ac394a-ff90-4562-9e84-3a6569a04cbf",
   "metadata": {},
   "outputs": [],
   "source": [
    "sqw_file = '/mnt/ceph-training/course_materials/sqw_files/iron.sqw'\n",
    "proj = m.line_proj([1,1,0], [-1,1,0], 'type', 'rrr')\n",
    "\n",
    "# Make an array of 1d cuts:\n",
    "energy_range = range(80, 161, 20)\n",
    "my_cuts = m.sqw.empty()\n",
    "for i, en in enumerate(energy_range):\n",
    "    my_cuts[i] = m.cut_sqw(sqw_file, proj, [-3,0.05,3], [-1.1,-0.9], [-0.1,0.1], [-10+en, 10+en])\n",
    "\n",
    "# Plots the cuts using a vectorised operation, offsetting each cut by 0.3 units in y\n",
    "m.acolor(['black', 'red', 'blue', 'green', 'yellow'])\n",
    "m.amark(['+', 'o', '*', '.', 'x', 's'], 6)\n",
    "my_cut_offset = my_cuts + np.arange(0, 1.3, 0.3)\n",
    "m.dl(my_cut_offset)"
   ]
  },
  {
   "cell_type": "markdown",
   "id": "691dceb8-432b-4492-908a-946029ea39e8",
   "metadata": {},
   "source": [
    "We now simulate a set of peak functions to the first cut, with parameters judged \"by eye\".\n",
    "\n",
    "We will be using the `mgauss` function to fit, and it takes `3*n` parameters where `n` is the number of peaks, and the parameters are `[area, centre, width]` in that order repeated.\n",
    "\n",
    "How many peaks are there? What are the approximate values of their centres?\n",
    "\n",
    "Use the `func_eval` function ([documentation here](https://pace-neutrons.github.io/Horace/unstable/manual/Simulation.html)) to evaluate the Gaussians on the data coordinates of the cut and plot it."
   ]
  },
  {
   "cell_type": "code",
   "execution_count": null,
   "id": "6598cf19-8d12-4387-aa35-d0437bf7c20b",
   "metadata": {},
   "outputs": [],
   "source": [
    "pars_in = [?, ?, ?,\n",
    "           ?, ?, ?,\n",
    "          ???]\n",
    "\n",
    "mgauss = m.eval('@mgauss')   # We need to do this to get a Matlab function handle to pass to func_eval\n",
    "peaks_sim = m.func_eval(my_cuts[0], mgauss, pars_in)\n",
    "\n",
    "m.acolor('black')\n",
    "m.plot(my_cuts[0])\n",
    "m.acolor('red')\n",
    "# Note the peaks simulation doesn't have a background - we add a flat background to match the data\n",
    "m.pl(peaks_sim + 0.3)"
   ]
  },
  {
   "cell_type": "markdown",
   "id": "7629006e-da85-489d-8b2d-c04404032bbb",
   "metadata": {},
   "source": [
    "Next we run a simulation of a S(q,w) model function - in fact a ferromagnetic spin wave model which should be able to fit the spinwaves in iron. It is described by the following equations:\n",
    "\n",
    "$$ E_0 = 8J (1 - \\cos(\\pi h) \\cos(\\pi k) \\cos(\\pi l) $$\n",
    "$$ B_{\\mathrm{iso}} = \\frac{E}{1 - \\exp\\left(- \\frac{1.602 E}{T}\\right)} $$\n",
    "$$ S(\\mathbf{Q}, E) = \\frac{A_0 B_{\\mathrm{iso}}}{\\pi} \\frac{4 \\Gamma E_0 }{(E^2 - E_0^2)^2 + 4(\\Gamma E)^2} $$\n",
    "\n",
    "Where $A$ is an amplitude scale factor, $T$ is the temperature in Kelvin $J$ is a ferromagnetic exchange constant in meV, $\\Gamma$ is an energy broadening term in meV.\n",
    "\n",
    "The $E_0$ term is the dispersion, and $\\mathbf{Q}=(h, k, l)$.\n",
    "\n",
    "You should define the $S(\\mathbf{Q},E)$ as a Python function which takes $h, k, l, E$ as coordinate inputs as well as the parameters $J, \\Delta, \\Gamma, A_0$ (the sample temperature $T$ is fixed at 10K for our measurements). The parameters should be given as a list / vector of values `p`.\n",
    "\n",
    "Then use the `sqw_eval` function ([documentation here](https://pace-neutrons.github.io/Horace/unstable/manual/Simulation.html#sqw-eval)) to evaluate it on the cut."
   ]
  },
  {
   "cell_type": "code",
   "execution_count": null,
   "id": "e59d49a3-38e5-444f-819b-44b58423647a",
   "metadata": {},
   "outputs": [],
   "source": [
    "def fm_sqw(h, k, l, E, p):\n",
    "    J = p[0]\n",
    "    Gamma = p[1]\n",
    "    A0 = p[2]\n",
    "    E0 = ??\n",
    "    Biso = ??\n",
    "    S = ??\n",
    "    return S"
   ]
  },
  {
   "cell_type": "code",
   "execution_count": null,
   "id": "0fd9a1be-4265-4d73-87a1-a53f3a3012dd",
   "metadata": {},
   "outputs": [],
   "source": [
    "J = ?\n",
    "Gamma = ?\n",
    "A0 = ?\n",
    "\n",
    "w_cal = m.sqw_eval(my_cuts[0], fm_sqw, [J, Gamma, A0])\n",
    "# Plots the data and model together\n",
    "m.plot(my_cuts[0])\n",
    "m.pl(w_cal + 0.3)"
   ]
  },
  {
   "cell_type": "markdown",
   "id": "81bd0b53-c814-424e-b62a-c527b7a7b4ae",
   "metadata": {},
   "source": [
    "Explore with different values of the parameters and see if you can get close to the data.\n",
    "\n",
    "Start by trying to match the amplitude $A_0$ (put any value for $J$ and $\\Gamma$. Then try to match $\\Gamma$ and then finally $J$ to see if you can reproduce the $Q$ spacing of the peaks.\n",
    "\n",
    "What do you notice about the amplitude of the data vs that of the calculation?"
   ]
  },
  {
   "cell_type": "markdown",
   "id": "56e04395-1a7a-4a52-ae7e-221a3240e40c",
   "metadata": {},
   "source": [
    "----"
   ]
  },
  {
   "cell_type": "markdown",
   "id": "9d12ebf8-95f4-4cb1-9b19-23f190ec12a5",
   "metadata": {},
   "source": [
    "Finally to end the simulations section, we will make a dispersion plot along a line of Q points, using the FM spin wave definition above, using the `disp2sqw_plot` function ([documentation here](https://pace-neutrons.github.io/Horace/unstable/manual/Simulation.html#disp2sqw-plot)).\n",
    "\n",
    "This function takes a slightly different input from `sqw_eval` - it expects both the intensity $S$ and the dispersion relation $E_0$ as a function of $Q$. In this case, we should return the $S(\\mathbf{Q},E=E_0)$ (the intensity at $E=E_0$) value."
   ]
  },
  {
   "cell_type": "code",
   "execution_count": null,
   "id": "e7e99c7d-40cc-4139-a615-7d7cce928cab",
   "metadata": {},
   "outputs": [],
   "source": [
    "def fm_disp(h, k, l, p):\n",
    "    J = p[0]\n",
    "    Gamma = p[1]\n",
    "    A0 = p[2]\n",
    "    E0 = ??\n",
    "    E = E0\n",
    "    Biso = ??\n",
    "    S = ??\n",
    "    return E0, S"
   ]
  },
  {
   "cell_type": "code",
   "execution_count": null,
   "id": "131419d1-0130-4a43-9e9e-b4dcf31a7d8f",
   "metadata": {},
   "outputs": [],
   "source": [
    "alatt = [2.87, 2.87, 2.87]\n",
    "angdeg = [90, 90, 90]\n",
    "lattice = alatt + angdeg\n",
    "\n",
    "# Reciprocal lattice points to draw dispersion between:\n",
    "rlp = [[0,0,0], [0,0,1], [0,0,0], [1,0,0], [0,0,0], [1,1,0], [0,0,0], [1,1,1]]\n",
    "# Input parameters\n",
    "pars = [35, 30, 80]\n",
    "# Energy grid\n",
    "ecent = [0, 0.1, 200];\n",
    "# Energy broadening term\n",
    "fwhh = 10\n",
    "\n",
    "m.disp2sqw_plot(lattice, rlp, fm_disp, pars, ecent, fwhh)\n",
    "m.lz(0,0.1)"
   ]
  },
  {
   "cell_type": "markdown",
   "id": "303cd632-0557-4ae8-b22b-daec0d4e1810",
   "metadata": {},
   "source": [
    "Finally... above notice that the simulated amplitude is equal for all peaks in the 1D cut, but in the data, as Q increases the peak height falls - this is because of the magnetic form factor of iron, which has the following form:\n",
    "\n",
    "```\n",
    "# Parameters for the form factor of Fe2+\n",
    "A=0.0706; a=35.008;  B=0.3589; b=15.358;  C=0.5819; c=5.561;  D=-0.0114\n",
    "q2 = ((1/(2*2.87))**2) * (h**2 + k**2 + l**2)\n",
    "ff = A * np.exp(-a*q2) + B * np.exp(-b*q2) + C * np.exp(-c*q2) + D\n",
    "```\n",
    "\n",
    "Add a prefactor of `ff**2` to your expression for $S(\\mathbf{Q},E)$ and replot and see if you get better agreement in the above."
   ]
  },
  {
   "cell_type": "code",
   "execution_count": null,
   "id": "eb84ab70-0ab4-4bc4-92f9-566a8b7e7afe",
   "metadata": {},
   "outputs": [],
   "source": [
    "# Parameters for the form factor of Fe2+\n",
    "A=0.0706; a=35.008;  B=0.3589; b=15.358;  C=0.5819; c=5.561;  D=-0.0114\n",
    "\n",
    "# Define the Python function\n",
    "def fm_sqw(h, k, l, E, p):\n",
    "    J = p[0]\n",
    "    Gamma = p[1]\n",
    "    A0 = p[2]\n",
    "    E0 = ??\n",
    "    Biso = ??\n",
    "    q2 = ((1/(2*2.87))**2) * (h**2 + k**2 + l**2)\n",
    "    ff = A * np.exp(-a*q2) + B * np.exp(-b*q2) + C * np.exp(-c*q2) + D\n",
    "    return (ff**2) * ??\n",
    "\n",
    "J = ??      # Exchange parameter in meV\n",
    "Gamma = ??  # Intrinsic linewidth in meV (inversely proportional to excitation lifetime)\n",
    "A0 = ??     # Magnitude of the intensity of the excitation (arbitrary units)\n",
    "\n",
    "w_cal = m.sqw_eval(my_cuts[0], fm_sqw, [J, Gamma, A0])\n",
    "# Plots the data and model together\n",
    "m.plot(my_cuts[0])\n",
    "m.pl(w_cal + 0.3)"
   ]
  },
  {
   "cell_type": "markdown",
   "id": "1ded3e1c-40b9-4e9b-bc8b-f7e67aff80e9",
   "metadata": {},
   "source": [
    "## Fitting a single 1D cut with some peaks\n",
    "\n",
    "We now try to fit a set of Gaussian functions to the peaks in the first cut of the set of cuts we made at the start of the session"
   ]
  },
  {
   "cell_type": "markdown",
   "id": "c8548074-1380-4420-a1a8-ac9a336726a0",
   "metadata": {},
   "source": [
    "Look at first curve - how many peaks are there? We will be using the `mgauss` function to fit, and it takes `3*n` parameters where `n` is the number of peaks, and the parameters are `[area, centre, width]` in that order repeated.\n",
    "\n",
    "It does not accept a background offset, so first subtract a constant background from the first cut, then use the `multifit` class to fit it."
   ]
  },
  {
   "cell_type": "code",
   "execution_count": null,
   "id": "75e6f16c-77da-4b79-a0d5-8d4f80c2c0bc",
   "metadata": {},
   "outputs": [],
   "source": [
    "%matlab_plot_mode inline\n",
    "\n",
    "pars_in = [?, ?, ?,  # area, centre, width of first peak\n",
    "           ?, ?, ?,\n",
    "           ???]\n",
    "\n",
    "mfobj = m.multifit_func(my_cuts[0] - 0.3)\n",
    "mgauss = m.eval('@mgauss')  # We need to do this to get a Matlab function handle to pass to multifit\n",
    "mfobj = mfobj.set_fun(mgauss, pars_in)\n",
    "wfit, fitdata = mfobj.fit()\n",
    "\n",
    "m.acolor('black')\n",
    "m.plot(my_cuts[0] - 0.3)\n",
    "m.acolor('red')\n",
    "m.pl(wfit)\n",
    "\n",
    "print('Fitted parameters are:')\n",
    "fitpars = np.squeeze(fitdata['p'])\n",
    "fiterrs = np.squeeze(fitdata['sig'])\n",
    "for ii in range(int(len(pars_in)/3)):\n",
    "    print(f\"{fitpars[ii*3]:0.3f}({fiterrs[ii*3]:0.3f}) {fitpars[ii*3+1]:0.3f}({fiterrs[ii*3+1]:0.3f}) {fitpars[ii*3+2]:0.3f}({fiterrs[ii*3+2]:0.3f})\")\n"
   ]
  },
  {
   "cell_type": "markdown",
   "id": "dda905ad-90ab-4463-976b-b505bb817c53",
   "metadata": {},
   "source": [
    "The `fitdata` structure/dictionary has a lot of information about the fit, including the covariance matrix. Let's print it out and see. "
   ]
  },
  {
   "cell_type": "code",
   "execution_count": null,
   "id": "50664b4f-bf3b-41cb-a4a1-c39b8b96cd01",
   "metadata": {},
   "outputs": [],
   "source": [
    "np.set_printoptions(linewidth=140, precision=3, suppress=True)\n",
    "print(fitdata['corr'])"
   ]
  },
  {
   "cell_type": "markdown",
   "id": "13076a26-e0d3-4407-bfbe-f7f88c53f0b8",
   "metadata": {},
   "source": [
    "How can we improve this fit? (Hint: which variables have high covariance, indicating that they are correlated / not independent - consider fixing some of them)"
   ]
  },
  {
   "cell_type": "code",
   "execution_count": null,
   "id": "3d621d8f-44c7-4b6c-b3b3-e1edb5a1b750",
   "metadata": {},
   "outputs": [],
   "source": [
    "# Run fit again, but fixing some parameters. \n",
    "# We specify this as a vector of boolean values indicating which parameters are *free* to vary\n",
    "\n",
    "pars_in = ??\n",
    "pars_free = ??\n",
    "\n",
    "mfobj = m.multifit_func(my_cuts[0] - 0.3)\n",
    "mgauss = m.eval('@mgauss')  # We need to do this to get a Matlab function handle to pass to multifit\n",
    "mfobj = mfobj.set_fun(mgauss, pars_in)\n",
    "mfobj = mfobj.set_free(pars_free)\n",
    "wfit, fitdata = mfobj.fit()\n",
    "\n",
    "m.acolor('black')\n",
    "m.plot(my_cuts[0] - 0.3)\n",
    "m.acolor('red')\n",
    "m.pl(wfit)\n",
    "\n",
    "print('Fitted parameters are:')\n",
    "fitpars = np.squeeze(fitdata['p'])\n",
    "fiterrs = np.squeeze(fitdata['sig'])\n",
    "for ii in range(int(len(pars_in)/3)):\n",
    "    print(f\"{fitpars[ii*3]:0.3f}({fiterrs[ii*3]:0.3f}) {fitpars[ii*3+1]:0.3f}({fiterrs[ii*3+1]:0.3f}) {fitpars[ii*3+2]:0.3f}({fiterrs[ii*3+2]:0.3f})\")\n"
   ]
  },
  {
   "cell_type": "markdown",
   "id": "633f9dd7-eae9-4035-b233-839b84eceeef",
   "metadata": {},
   "source": [
    "It's better but still not so good - there are still too many parameters.\n",
    "\n",
    "Notice that the peak positions should be symmetric about Q=0 - we can thus fix the centre positions of those peaks to be negative of each other. We can do this using \"parameter bindings\", [described here in the documentation](https://pace-neutrons.github.io/Horace/unstable/manual/Multifit.html#binding-parameters).\n",
    "\n",
    "The basic syntax is that each binding is a set of three values in a cell array, denoting:\n",
    "\n",
    "```\n",
    "(index_bound_par, index_free_par, ratio)\n",
    "```\n",
    "\n",
    "So, say we put the first peak around 0.9 and the second peak around -0.9, the peak position is thus parameter index 2 and 5 (in Matlab 1-based indexing because this is refered to by Horace code which is in Matlab). We would thus use:\n",
    "\n",
    "```\n",
    "(2, 5, -1)\n",
    "```\n",
    "\n",
    "To specify then bindings.\n",
    "\n",
    "Now try to fit with binding the positive and negative peak centres in Q.\n",
    "\n",
    "(To set multiple bindinds, used a nested tuple in Python [nested cell-arrays in Matlab], e.g. `((2, 5, -1), (8, 11, -1))`)"
   ]
  },
  {
   "cell_type": "code",
   "execution_count": null,
   "id": "7ccb9e12-0ce6-4b8e-ba7c-13dbefe0c145",
   "metadata": {},
   "outputs": [],
   "source": [
    "# Run fit again, but fixing some parameters. \n",
    "# We specify this as a vector of boolean values indicating which parameters are *free* to vary\n",
    "\n",
    "pars_in = ??\n",
    "pars_free = ??\n",
    "pars_bind = ??\n",
    "\n",
    "mfobj = m.multifit_func(my_cuts[0] - 0.3)\n",
    "mgauss = m.eval('@mgauss')  # We need to do this to get a Matlab function handle to pass to multifit\n",
    "mfobj = mfobj.set_fun(mgauss, pars_in)\n",
    "mfobj = mfobj.set_free(pars_free)\n",
    "mfobj = mfobj.set_bind(pars_bind)\n",
    "wfit, fitdata = mfobj.fit()\n",
    "\n",
    "m.acolor('black')\n",
    "m.plot(my_cuts[0] - 0.3)\n",
    "m.acolor('red')\n",
    "m.pl(wfit)\n",
    "\n",
    "print('Fitted parameters are:')\n",
    "fitpars = np.squeeze(fitdata['p'])\n",
    "fiterrs = np.squeeze(fitdata['sig'])\n",
    "for ii in range(int(len(pars_in)/3)):\n",
    "    print(f\"{fitpars[ii*3]:0.3f}({fiterrs[ii*3]:0.3f}) {fitpars[ii*3+1]:0.3f}({fiterrs[ii*3+1]:0.3f}) {fitpars[ii*3+2]:0.3f}({fiterrs[ii*3+2]:0.3f})\")\n"
   ]
  },
  {
   "cell_type": "markdown",
   "id": "0088adae-8dd2-4743-a426-19d598a94f0f",
   "metadata": {},
   "source": [
    "Finally, we can also set a background function, rather than just subtracting a constant from the data before fitting. [The documentation is here](https://pace-neutrons.github.io/Horace/unstable/manual/Multifit.html#background-functions).\n",
    "\n",
    "We will use the `linear_bg` function which takes two parameters `[yintercept, slope]`. Use a zero slope and `0.3` as the y-intercept to start."
   ]
  },
  {
   "cell_type": "code",
   "execution_count": null,
   "id": "c907c14a-7168-4c32-bbb6-a64d249f2ec5",
   "metadata": {},
   "outputs": [],
   "source": [
    "# Run fit again, but fixing some parameters. \n",
    "# We specify this as a vector of boolean values indicating which parameters are *free* to vary\n",
    "\n",
    "pars_in = ??\n",
    "pars_free = ??\n",
    "\n",
    "mfobj = m.multifit_func(my_cuts[0])\n",
    "mgauss = m.eval('@mgauss')  # We need to do this to get a Matlab function handle to pass to multifit\n",
    "mfobj = mfobj.set_fun(mgauss, pars_in)\n",
    "mfobj = mfobj.set_free(pars_free)\n",
    "# Define a linear background\n",
    "linear_bg = m.eval('@linear_bg')\n",
    "mfobj = mfobj.set_bfun(linear_bg, [0.3, 0])\n",
    "wfit, fitdata = mfobj.fit()\n",
    "\n",
    "m.acolor('black')\n",
    "m.plot(my_cuts[0])\n",
    "m.acolor('red')\n",
    "m.pl(wfit)\n",
    "\n",
    "print('Fitted parameters are:')\n",
    "fitpars = np.squeeze(fitdata['p'])\n",
    "fiterrs = np.squeeze(fitdata['sig'])\n",
    "for ii in range(int(len(pars_in)/3)):\n",
    "    print(f\"{fitpars[ii*3]:0.3f}({fiterrs[ii*3]:0.3f}) {fitpars[ii*3+1]:0.3f}({fiterrs[ii*3+1]:0.3f}) {fitpars[ii*3+2]:0.3f}({fiterrs[ii*3+2]:0.3f})\")\n"
   ]
  },
  {
   "cell_type": "markdown",
   "id": "a765c624-e18a-4504-8871-dbcccfbcdafc",
   "metadata": {},
   "source": [
    "## Fitting using a S(Q,w) model\n",
    "\n",
    "We now try to fit the FM spin wave model function we defined above.\n",
    "\n",
    "Everything is almost the same as with fitting Gaussians, except you should use `multifit_sqw` instead of `multifit_func` - the suffix denoting that the fit function in this case takes the 4 coordinates `[h,k,l,E]` instead of the plot coordinates as input.\n",
    "\n",
    "Otherwise the syntax is almost identical - set up a fit (with a linear background function) and try to see if you can fit the data. (You should use the function you defined _including_ the form factor)."
   ]
  },
  {
   "cell_type": "code",
   "execution_count": null,
   "id": "4611a081-f906-4b52-baac-ec9f1fbb0b87",
   "metadata": {},
   "outputs": [],
   "source": [
    "# Parameters for the form factor of Fe2+\n",
    "A=0.0706; a=35.008;  B=0.3589; b=15.358;  C=0.5819; c=5.561;  D=-0.0114\n",
    "\n",
    "# Define a linear background\n",
    "linear_bg = m.eval('@linear_bg')\n",
    "\n",
    "# Define the Python function\n",
    "def fm_sqw(h, k, l, E, p):\n",
    "    J = p[0]\n",
    "    Gamma = p[1]\n",
    "    A0 = p[2]\n",
    "    E0 = ??\n",
    "    Biso = ??\n",
    "    q2 = ((1/(2*2.87))**2) * (h**2 + k**2 + l**2)\n",
    "    ff = A * np.exp(-a*q2) + B * np.exp(-b*q2) + C * np.exp(-c*q2) + D\n",
    "    return (ff**2) * ??\n",
    "\n",
    "J = ??      # Exchange parameter in meV\n",
    "Gamma = ??  # Intrinsic linewidth in meV (inversely proportional to excitation lifetime)\n",
    "A0 = ??     # Magnitude of the intensity of the excitation (arbitrary units)\n",
    "\n",
    "pars_in = [J, Gamma, A0]\n",
    "\n",
    "mfobj = m.multifit_sqw(my_cuts[0])\n",
    "mfobj = mfobj.set_fun(fm_sqw, pars_in)\n",
    "mfobj = mfobj.set_bfun(linear_bg, [0.3, 0])\n",
    "wfit, fitdata = mfobj.fit()\n",
    "\n",
    "m.acolor('black')\n",
    "m.plot(my_cuts[0])\n",
    "m.acolor('red')\n",
    "m.pl(wfit)\n",
    "\n",
    "print(fitdata)"
   ]
  },
  {
   "cell_type": "markdown",
   "id": "2dd79145-f233-4227-b422-b38bb73cab53",
   "metadata": {},
   "source": [
    "If you're satisfied with fitting the first cut there, now try to fit all the cuts (at different energies) we made at the start.\n",
    "\n",
    "This can be done simply by give the full list of cuts to `multifit_sqw` when you construct it instead of just the first cut. Everything else will stay the same."
   ]
  },
  {
   "cell_type": "code",
   "execution_count": null,
   "id": "2bc49c11-f3ae-4b1f-9472-cb849378a51f",
   "metadata": {},
   "outputs": [],
   "source": [
    "mfobj = m.multifit_sqw(my_cuts)\n",
    "mfobj = mfobj.set_fun(fm_sqw, pars_in)\n",
    "mfobj = mfobj.set_bfun(linear_bg, [0.3, 0])\n",
    "wfit, fitdata = mfobj.fit()\n",
    "\n",
    "%matlab_fig -h 800 -w 600 -r 100\n",
    "\n",
    "# Plots the cuts using a vectorised operation, offsetting each cut by 0.5 units in y\n",
    "m.acolor(['black', 'red', 'blue', 'green', 'yellow'])\n",
    "m.amark(['+', 'o', '*', '.', 'x', 's'], 6)\n",
    "my_cut_offset = my_cuts + np.arange(0, 2.1, 0.5)\n",
    "my_fit_offset = wfit + np.arange(0, 2.1, 0.5)\n",
    "m.dp(my_cut_offset)\n",
    "m.pl(my_fit_offset)\n",
    "\n",
    "print(fitdata)"
   ]
  },
  {
   "cell_type": "markdown",
   "id": "c3b4e145-16e8-402b-ba1b-5f90763d1487",
   "metadata": {},
   "source": [
    "## Resolution convolution\n",
    "\n",
    "Finally we add resolution convolution calculation to the fit. This is almost exactly the same as using `multifit_sqw` except that we now use the `tobyfit` class instead and we have to define some instrument and sample parameters. [The documentation is here](https://pace-neutrons.github.io/Horace/unstable/user_guide/Resolution_convolution.html#the-tobyfit-class)"
   ]
  },
  {
   "cell_type": "code",
   "execution_count": null,
   "id": "93677f6e-5577-45d6-ba26-e271c0d0ce80",
   "metadata": {},
   "outputs": [],
   "source": [
    "# Calculate spectra with full instrument resolution convolution\n",
    "\n",
    "# Define sample parameters\n",
    "xgeom = [0,0,1]\n",
    "ygeom = [0,1,0]\n",
    "shape = 'cuboid'\n",
    "shape_pars = [0.01,0.05,0.01]\n",
    "\n",
    "# Define instrument parameters\n",
    "ei = 400    # Incident energy in meV\n",
    "freq = 600  # Chopper frequency in Hz\n",
    "chop = 's'  # Chopper rotor identifier (ask instrument scientist)\n",
    "\n",
    "# Sets the sample and instrument on the workspace\n",
    "my_cuts[0] = my_cuts[0].set_sample(m.IX_sample(xgeom, ygeom, shape, shape_pars))\n",
    "my_cuts[0] = my_cuts[0].set_instrument(m.merlin_instrument(ei, freq, chop))\n",
    "\n",
    "tbfobj = m.tobyfit(my_cuts[0])\n",
    "tbfobj = tbfobj.set_fun(fm_sqw, fitdata['p'])  # Use previous best fit parameters\n",
    "tbfobj = tbfobj.set_bfun(linear_bg, fitdata['bp'])\n",
    "w_tbf = tbfobj.simulate()\n",
    "\n",
    "m.acolor('black')\n",
    "m.plot(my_cuts[0])\n",
    "m.acolor('red')\n",
    "m.pl(w_tbf)"
   ]
  }
 ],
 "metadata": {
  "kernelspec": {
   "display_name": "Python 3 (ipykernel)",
   "language": "python",
   "name": "python3"
  },
  "language_info": {
   "codemirror_mode": {
    "name": "ipython",
    "version": 3
   },
   "file_extension": ".py",
   "mimetype": "text/x-python",
   "name": "python",
   "nbconvert_exporter": "python",
   "pygments_lexer": "ipython3",
   "version": "3.11.9"
  }
 },
 "nbformat": 4,
 "nbformat_minor": 5
}
