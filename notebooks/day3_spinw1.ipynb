{
 "cells": [
  {
   "cell_type": "code",
   "execution_count": null,
   "id": "dd1f9b68-ef04-46dd-a972-a459fc745c3d",
   "metadata": {},
   "outputs": [],
   "source": [
    "import numpy as np\n",
    "import matplotlib.pyplot as plt\n",
    "from pace_neutrons import Matlab\n",
    "m = Matlab()\n",
    "\n",
    "# Set SpinW to use mex files:\n",
    "swp = m.swpref()\n",
    "swp.usemex = 1"
   ]
  },
  {
   "cell_type": "markdown",
   "id": "87a81b9b-ef7a-4820-832e-f07125324331",
   "metadata": {},
   "source": [
    "## SpinW Introduction\n",
    "\n",
    "SpinW is implemented as a Matlab class. To run a calculation you first have to create an object (instance) of this class:\n",
    "\n",
    "```\n",
    "object = m.spinw()\n",
    "```\n",
    "\n",
    "then set properties, such as the lattice parameters and atom positions, by calling methods of the class, e.g.:\n",
    "\n",
    "```\n",
    "object.genlattice('lat_const',[4,4,4],'angled',[90,90,90],'spgr','P 4')\n",
    "```\n",
    "\n",
    "Online documentation is [available here](https://spinw.org/SWclass/)."
   ]
  },
  {
   "cell_type": "markdown",
   "id": "1530615c-02b2-4f46-b55f-00ba9a02210a",
   "metadata": {},
   "source": [
    "### Excercise 1: 1D chain\n",
    "\n",
    "Using `sw_model` ([documentation here](https://spinw.org/sw_model)) set up a model of an antiferromagnetic spin chain with nearest neighbour interaction J=1 meV. (Remember that positive values indicate antiferromagnetic exchange in the convention used by SpinW)\n",
    "\n",
    "Plot the model – which crystallographic direction is the spin chain along? In which direction in Q would you expect the spin waves to be dispersive?\n",
    "\n",
    "Use the `spinwave` ([documentation here](https://spinw.org/spinw_spinwave)) method to calculate the spin wave dispersion along the chain, and plot the result.\n",
    "\n",
    "Use the `sw_egrid` ([documentation here](https://spinw.org/sw_egrid)) function on the calculated spectrum object to create an intensity spectrum and plot it with sw_plotspec with the `'dE'` option.\n",
    "\n",
    "Now create a ferromagnetic chain using sw_model and calculate and plot its neutron intensity spectrum. (Use the `figure` command to create a new figure before plotting the new spectrum otherwise the old [antiferromagnetic chain] spectrum will be erased and overplotted).\n",
    "\n",
    "Aside from the difference in the dispersion, what is the difference between the neutron intensity between the ferromagnetic and antiferromagnetic chain? Why do you think this difference arises?"
   ]
  },
  {
   "cell_type": "code",
   "execution_count": null,
   "id": "221477ca-5918-41ee-9b86-688ae4a40047",
   "metadata": {},
   "outputs": [],
   "source": [
    "chain = m.sw_model(?, ?)\n",
    "m.plot(chain)"
   ]
  },
  {
   "cell_type": "code",
   "execution_count": null,
   "id": "8d6ad028-305d-47ad-b3f1-537b3d876402",
   "metadata": {},
   "outputs": [],
   "source": [
    "spec = chain.spinwave(([?,?,?], [?,?,?], 500))\n",
    "m.sw_plotspec(spec)"
   ]
  },
  {
   "cell_type": "code",
   "execution_count": null,
   "id": "e30f4cda-0853-4707-923f-3c8ba031737f",
   "metadata": {},
   "outputs": [],
   "source": [
    "spec = m.sw_egrid(spec)\n",
    "m.sw_plotspec(spec, 'dE', 0.1, 'legend', 0)"
   ]
  },
  {
   "cell_type": "code",
   "execution_count": null,
   "id": "30e318d2-ca10-4286-a4c6-74dbcfb9c8c2",
   "metadata": {},
   "outputs": [],
   "source": [
    "fm_chain = m.sw_model(?, ?)\n",
    "m.sw_plotspec(m.sw_egrid(fm_chain.spinwave(([?,?,?], [?,?,?], 500))), 'legend', 0)"
   ]
  },
  {
   "cell_type": "markdown",
   "id": "f8ebf27b-ff2b-40f4-ad3c-01857f96104e",
   "metadata": {},
   "source": [
    "Use the `powspec` method ([documentation here](https://spinw.org/spinw_powspec)) to calculate a powder spectrum of the FM chain between 0 and 3 Å$^{-1}$ in 100 steps with 1000 random sampling points per Q bin. What feature of the dispersion correspond to what feature of the powder spectrum?\n",
    "\n",
    "Repeat the powder spectrum calculation for the AFM chain – what differences do you notice?"
   ]
  },
  {
   "cell_type": "code",
   "execution_count": null,
   "id": "06f74b82-a6e1-4c6c-99ca-5ad03e34147f",
   "metadata": {},
   "outputs": [],
   "source": [
    "%matlab_fig -w 800 -h 400 -r 75\n",
    "\n",
    "Qbins = np.linspace(?, ?, ?)\n",
    "Ebins = np.linspace(0, 5, 100)\n",
    "\n",
    "fm_powspec = fm_chain.powspec(Qbins, 'Evect', Ebins, 'nRand', 1000)\n",
    "m.subplot(1,2,1)\n",
    "m.sw_plotspec(fm_powspec)\n",
    "afm_powspec = chain.powspec(Qbins, 'Evect', Ebins, 'nRand', 1000)\n",
    "m.subplot(1,2,2)\n",
    "m.sw_plotspec(afm_powspec)"
   ]
  },
  {
   "cell_type": "markdown",
   "id": "aa79ddfe-031a-48e1-bade-3f91d0e047ee",
   "metadata": {},
   "source": [
    "Finally, you can also calculate the magnon density of states (DOS) by randomly sampling in the first Brillouin zone and summing the results over Q\n",
    "\n",
    "How does the DOS compare to summing the powder spectrum over Q? Why did we use the 'Sxx+Syy+Szz' component instead of the neutron 'Sperp' component which is the default used in powspec?"
   ]
  },
  {
   "cell_type": "code",
   "execution_count": null,
   "id": "45bdd6b5-3edf-406a-9d40-4e16d9c78ca3",
   "metadata": {},
   "outputs": [],
   "source": [
    "Qvec = np.random.rand(3, int(1e5))   # Generate 10000 random Q points between [0,1]\n",
    "dosspec = chain.spinwave(Qvec)       # Calculates the dispersion\n",
    "\n",
    "# Now take the trace of the Sab correlation matrix instead Sperp\n",
    "# also make sure we use the same energy vector as for the powder calculation to compare\n",
    "dosspec = m.sw_egrid(dosspec, 'component', 'Sxx+Syy+Szz', 'Evect', np.linspace(0,3,100))\n",
    "\n",
    "# Now broaden the spectrum with a Gaussian of width 0.01meV\n",
    "dosspec = m.sw_instrument(dosspec, 'dE', 0.01)\n",
    "magnon_dos = sum(dosspec['swConv'], 2)"
   ]
  },
  {
   "cell_type": "code",
   "execution_count": null,
   "id": "6465f206-3abe-41b0-96b4-aa9d418eec4c",
   "metadata": {},
   "outputs": [],
   "source": [
    "# The energy vector is stored as bin boundaries in the spectrum\n",
    "en = (dosspec['Evect'][0,:-1] + dosspec['Evect'][0,1:]) / 2\n",
    "magnon_dos = np.sum(dosspec['swConv'], axis=1)\n",
    "plt.plot(en, magnon_dos)\n",
    "\n",
    "# Compare to summing the powder spectrum\n",
    "enp = (afm_powspec['Evect'][0,:-1] + afm_powspec['Evect'][0,1:]) / 2\n",
    "powsum = np.sum(afm_powspec['swConv'], axis=1);\n",
    "plt.plot(enp, powsum / np.max(powsum) * np.max(magnon_dos))\n",
    "plt.ylim(0, 100000)"
   ]
  },
  {
   "cell_type": "code",
   "execution_count": null,
   "id": "f66c5b9e-d972-4fbd-aff1-1aee6985d975",
   "metadata": {},
   "outputs": [],
   "source": [
    "# Calculates the DOS for the FM chain\n",
    "Qvec = np.random.rand(3, int(1e5))   # Generate 10000 random Q points between [0,1]\n",
    "dosspec = fm_chain.spinwave(Qvec)     # Calculates the dispersion\n",
    "# Now take the trace of the Sab correlation matrix instead Sperp\n",
    "# also make sure we use the same energy vector as for the powder calculation to compare\n",
    "dosspec = m.sw_egrid(dosspec, 'component', 'Sxx+Syy+Szz', 'Evect', np.linspace(0,5,100))\n",
    "# Now broaden the spectrum with a Gaussian of width 0.01meV\n",
    "dosspec = m.sw_instrument(dosspec, 'dE', 0.01)\n",
    "magnon_dos = np.sum(dosspec['swConv'], axis=1)\n",
    "\n",
    "# The energy vector is stored as bin boundaries in the spectrum\n",
    "en = (dosspec['Evect'][0,:-1] + dosspec['Evect'][0,1:]) / 2\n",
    "plt.plot(en, magnon_dos)\n",
    "\n",
    "# Compare to summing the powder spectrum\n",
    "enp = (fm_powspec['Evect'][0,:-1] + fm_powspec['Evect'][0,1:]) / 2\n",
    "powsum = np.sum(fm_powspec['swConv'], axis=1);\n",
    "plt.plot(enp, powsum / np.max(powsum) * np.max(magnon_dos))\n"
   ]
  }
 ],
 "metadata": {
  "kernelspec": {
   "display_name": "Python 3 (ipykernel)",
   "language": "python",
   "name": "python3"
  },
  "language_info": {
   "codemirror_mode": {
    "name": "ipython",
    "version": 3
   },
   "file_extension": ".py",
   "mimetype": "text/x-python",
   "name": "python",
   "nbconvert_exporter": "python",
   "pygments_lexer": "ipython3",
   "version": "3.11.9"
  }
 },
 "nbformat": 4,
 "nbformat_minor": 5
}
