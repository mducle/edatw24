{
 "cells": [
  {
   "cell_type": "code",
   "execution_count": null,
   "id": "f2dd8cb6-b350-4415-b2ab-33d84dd588b6",
   "metadata": {},
   "outputs": [],
   "source": [
    "# First we import the module and start up the Matlab interpreter\n",
    "\n",
    "import os\n",
    "import numpy as np\n",
    "from pace_neutrons import Matlab\n",
    "m = Matlab()\n",
    "\n",
    "swp = m.swpref()\n",
    "swp.usemex = 1"
   ]
  },
  {
   "cell_type": "markdown",
   "id": "3890883a-cee3-4491-8278-71cb2972650e",
   "metadata": {},
   "source": [
    "### Fitting with Horace and SpinW\n",
    "\n",
    "In this practical we will be doing a fit of the bcc-Iron dataset using both Horace and SpinW.\n",
    "\n",
    "Start by looking back at the `day2_horace3_solution.ipynb` notebook where we did a fit of the iron dataset using an analytic Python function - copy the code to make a series of Q-cuts integrating in 20meV chunks between 80 and 160meV and then the code to fit this using an analytic function"
   ]
  },
  {
   "cell_type": "code",
   "execution_count": null,
   "id": "69ae6ca0-958e-407d-aab9-ecddc350fd97",
   "metadata": {},
   "outputs": [],
   "source": [
    "???"
   ]
  },
  {
   "cell_type": "markdown",
   "id": "e4f5c6c5-2dad-465f-b317-0725d36b27e5",
   "metadata": {},
   "source": [
    "Now create a SpinW model of a body-centred cubic lattice (space group `I m -3 m` - you canuse the `'spgr', 'I m -3 m'` keyword in the `genlattice` method of SpinW) with an Fe$^{3+}$ (`'MFe3'`) ion at $(0,0,0)$.\n",
    "\n",
    "Add one nearest neighbour exchange interaction labelled `'J1'` and set the magnetic structure as ferromagnetic with moments in the $c$ direction (note there are two Fe atoms in the unit cell)."
   ]
  },
  {
   "cell_type": "code",
   "execution_count": null,
   "id": "94b1fd64-feb2-4ac6-aee6-587a3b244488",
   "metadata": {},
   "outputs": [],
   "source": [
    "???"
   ]
  },
  {
   "cell_type": "markdown",
   "id": "ace0e4a4-1c75-4f6f-92ea-8369d48541de",
   "metadata": {},
   "source": [
    "Now to fit we have to pass a Matlab function handle for the SpinW fit function to Horace we have to use a round-about way to do this (better implementation in future!):\n",
    "\n",
    "```\n",
    "m.assignin('base', 'fe', fe)\n",
    "spinw_sqw = m.evalin('base', '@fe.horace_sqw')\n",
    "```\n",
    "\n",
    "Then create a `multifit_sqw` object with this handle as the fit function, and set the parameters as follows:\n",
    "\n",
    "```\n",
    "mfobj = mfobj.set_fun(spinw_sqw)\n",
    "mfobj = mfobj.set_pin((pars_in_spinw, 'mat', ('J1',), 'resfun', 'sho', 'formfact', True, 'hermit', False))\n",
    "```\n",
    "\n",
    "This uses a simple-harmonic oscillator function as the energy broadening term - this takes two parameters $\\Gamma$ and $T$ the temperature - we want to fix the temperature.\n",
    "\n",
    "Finally there is the scalling factor (amplitude `Amp`) which is the last parameter so the parameter vector is:\n",
    "\n",
    "```\n",
    "pars_in = [J, Gamma, Temperature, Amp]\n",
    "```\n",
    "\n",
    "but\n"
   ]
  },
  {
   "cell_type": "code",
   "execution_count": null,
   "id": "c5bbd842-fd2d-42b8-b4ed-7e07d146fcee",
   "metadata": {},
   "outputs": [],
   "source": [
    "m.assignin('base', 'fe', fe)\n",
    "spinw_sqw = m.evalin('base', '@fe.horace_sqw')\n",
    "\n",
    "Temperature = 10   # Measurement done at 10K\n",
    "\n",
    "pars_in_spinw = [J, Gamma, Temperature, Amp]\n",
    "\n",
    "mfobj = m.multifit_sqw(my_cuts)\n",
    "mfobj = mfobj.set_fun(spinw_sqw)\n",
    "mfobj = mfobj.set_pin((pars_in_spinw, 'mat', ('J1',), 'resfun', 'sho', 'formfact', True, 'hermit', False))\n",
    "mfobj = mfobj.set_free([1, 1, 0, 1])\n",
    "mfobj = mfobj.set_bfun(linear_bg, [0.3, 0])\n",
    "m.tic()\n",
    "wfit = mfobj.simulate()\n",
    "t1 = m.toc()\n",
    "\n",
    "print(f'Time to run fit with SpinW function is {t0} s.')\n",
    "\n",
    "%matlab_fig -h 800 -w 600 -r 100\n",
    "\n",
    "# Plots the cuts using a vectorised operation, offsetting each cut by 0.5 units in y\n",
    "m.acolor(['black', 'red', 'blue', 'green', 'yellow'])\n",
    "m.amark(['+', 'o', '*', '.', 'x', 's'], 6)\n",
    "my_cut_offset = my_cuts + np.arange(0, 2.1, 0.5)\n",
    "my_fit_offset = wfit + np.arange(0, 2.1, 0.5)\n",
    "m.dp(my_cut_offset)\n",
    "m.pl(my_fit_offset)"
   ]
  }
 ],
 "metadata": {
  "kernelspec": {
   "display_name": "Python 3 (ipykernel)",
   "language": "python",
   "name": "python3"
  },
  "language_info": {
   "codemirror_mode": {
    "name": "ipython",
    "version": 3
   },
   "file_extension": ".py",
   "mimetype": "text/x-python",
   "name": "python",
   "nbconvert_exporter": "python",
   "pygments_lexer": "ipython3",
   "version": "3.11.9"
  }
 },
 "nbformat": 4,
 "nbformat_minor": 5
}
