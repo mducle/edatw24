{
 "cells": [
  {
   "cell_type": "code",
   "execution_count": null,
   "id": "54a8ccaf-172a-4aab-b7ba-8325dcddf91f",
   "metadata": {},
   "outputs": [],
   "source": [
    "# First we import the module and start up the Matlab interpreter\n",
    "\n",
    "import os\n",
    "import numpy as np\n",
    "from pace_neutrons import Matlab\n",
    "m = Matlab()"
   ]
  },
  {
   "cell_type": "markdown",
   "id": "246e1597-918e-4b77-8bfd-e2b9ba992163",
   "metadata": {},
   "source": [
    "We will now run through some examples in the \"getting started\" guide to Matlab (at: https://www.mathworks.com/help/matlab/getting-started-with-matlab.html ), and see how it changes in Python under `libpymcr`.\n",
    "\n",
    "First we define some arrays ( https://www.mathworks.com/help/matlab/learn_matlab/matrices-and-arrays.html ). Note that Matlab functions such as `zeros`, `sin`, `inv` must be prefixed with an `m.` in `libpymcr`.\n",
    "\n",
    "The Matlab commands are given in comments - you should translate them to the Python/libpymcr equivalent and run the cell.\n",
    "\n",
    "For the transpose operation, you cannot use the `'` operator like in Matlab. You can either use `numpy` and the `.T` property or use the Matlab `transpose` function.\n",
    "\n",
    "Note that in Matlab the `*` operator is matrix-multiplication which is the `@` operator in numpy, whereas the `.*` operator is simple element-wise multiplication (which in Python/numpy is the `*` operator).\n",
    "\n",
    "Finally note that in Jupyter notebooks, you have to explicitly `print` variables to the screen."
   ]
  },
  {
   "cell_type": "code",
   "execution_count": null,
   "id": "48530e62-b272-4ebd-99ce-aea3f77dceed",
   "metadata": {},
   "outputs": [],
   "source": [
    "#a = [1 3 5; 2 4 6; 7 8 10]\n",
    "#z = zeros(5,1)\n",
    "#a + 10\n",
    "#sin(a)\n",
    "#a'\n",
    "#p = a*inv(a)\n",
    "#p = a.*a\n",
    "#a.^3\n",
    "#A = [a,a]\n",
    "#A = [a; a]\n",
    "#sqrt(-1)\n",
    "#c = [3+4i, 4+3j; -i, 10j]"
   ]
  },
  {
   "cell_type": "markdown",
   "id": "d24434e3-fcbb-4f21-85f5-1db627104c46",
   "metadata": {},
   "source": [
    "Now we run through the Array Indexing ( https://www.mathworks.com/help/matlab/learn_matlab/array-indexing.html ) examples:"
   ]
  },
  {
   "cell_type": "code",
   "execution_count": null,
   "id": "04451e4f-ef36-40ce-9622-0abdd173904f",
   "metadata": {},
   "outputs": [],
   "source": [
    "#A = [1 2 3 4; 5 6 7 8; 9 10 11 12; 13 14 15 16]\n",
    "#A(4,2)\n",
    "#A(8)\n",
    "#A(4,5) = 17\n",
    "#A(1:3,2)\n",
    "#A(3,:)\n",
    "#B = 0:10:100"
   ]
  }
 ],
 "metadata": {
  "kernelspec": {
   "display_name": "Python 3 (ipykernel)",
   "language": "python",
   "name": "python3"
  },
  "language_info": {
   "codemirror_mode": {
    "name": "ipython",
    "version": 3
   },
   "file_extension": ".py",
   "mimetype": "text/x-python",
   "name": "python",
   "nbconvert_exporter": "python",
   "pygments_lexer": "ipython3",
   "version": "3.11.9"
  }
 },
 "nbformat": 4,
 "nbformat_minor": 5
}
