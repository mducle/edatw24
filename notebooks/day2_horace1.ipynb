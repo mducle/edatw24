{
 "cells": [
  {
   "cell_type": "code",
   "execution_count": null,
   "id": "0014b7c7-8e32-46d4-9f96-943c52db1298",
   "metadata": {},
   "outputs": [],
   "source": [
    "# First we import the module and start up the Matlab interpreter\n",
    "\n",
    "import os\n",
    "import numpy as np\n",
    "from pace_neutrons import Matlab\n",
    "m = Matlab()\n"
   ]
  },
  {
   "cell_type": "markdown",
   "id": "a8210659-4eb8-4c96-ab10-97026928cee1",
   "metadata": {},
   "source": [
    "## Nonorthogonal axes\n",
    "\n",
    "We're going to first look at some other different data to illustrate an option of the \"projection\" which Horace uses to define the cut / plot you get, and then go back to the bcc-Iron dataset.\n",
    "\n",
    "The dataset we'll use is of a hexagonal system, UPd$_3$.\n",
    "\n",
    "There is an option called `nonorthogonal` which can be a bit counter-intuitive. The reason for it is that Matlab does not allow you to plot on a non-Cartesian grid (although Matplotlib does so this should be changed eventually!).\n",
    "\n",
    "Try the code below with both `'nonorthogonal', True` and `'nonorthogonal', False` and think about the difference.\n",
    "\n",
    "The default in Horace is `'nonorthogonal', False` - why might you want to plot `'nonorthogonal', True`?"
   ]
  },
  {
   "cell_type": "code",
   "execution_count": null,
   "id": "39651fe6-45c1-44ce-b723-90c3f8d68b96",
   "metadata": {},
   "outputs": [],
   "source": [
    "sqw_nonorth = '/mnt/ceph-training/course_materials/sqw_files/upd3_elastic.sqw'\n",
    "\n",
    "proj = m.line_proj([1,0,0], [0,1,0], 'type', 'rrr', 'nonorthogonal', ?)\n",
    "ws_nonorth_f = m.cut_sqw(sqw_nonorth, proj, [-7,0.02,3], [-2,0.02,2], [-0.1,0.1], [-1,1]);\n",
    "m.plot(ws_nonorth_f)\n",
    "m.lz(0,10000)"
   ]
  },
  {
   "cell_type": "markdown",
   "id": "8c5f78d0-75f4-4cef-a021-5c955b59f8f3",
   "metadata": {},
   "source": [
    "----"
   ]
  },
  {
   "cell_type": "markdown",
   "id": "4de4d11b-c9c3-4cb0-9def-a0d90c279abc",
   "metadata": {},
   "source": [
    "We're going to look more carefully at the bcc-Iron dataset we saw yesterday. You can either use the file you generated yesterday or use the pre-generated file in the `course_materials` folder.\n",
    "\n",
    "In this case, we will use a different projection to view the data, which we will use for latter fitting - use `u = [1,1,0]` and `v = [-1, 1, 0]`\n",
    "\n",
    "Yesterday, we mentioned that there are two types of objects used in Horace - `sqw` and `dnd`. When you run `cut_sqw` you rebin the data into bins you define (with the four numerical variables), but these bins are actually composed of 10's to 100's of individual detector-ToF bin elements in the original raw data, which Horace calls \"pixels\". An `sqw` object retains this \"pixel\" information whereas a `dnd` object does not.\n",
    "\n",
    "By default the output of `cut_sqw` is an `sqw`. If you specify the `-nopix` flag to `cut_sqw` it will create a `dnd` (where `n` is the actual dimension, so the object type will actually be `d1d`, `d2d`, etc). Now if you just want to plot the cut, you don't need the pixel information, so you can add `-nopix` to the `cut_sqw` call to save memory. \n",
    "\n",
    "However, if you retain the pixel information, then you can make new cuts _from_ the previous cut (in memory) much faster, because you don't have to load the data again from disk. We will see this in the following. Notice that we add a `tic` and `toc` before and after the `my_cut` call. This will give us the time it takes to make the cut from disk."
   ]
  },
  {
   "cell_type": "code",
   "execution_count": null,
   "id": "37f4a143-a835-44e0-919d-16d2c335bf82",
   "metadata": {},
   "outputs": [],
   "source": [
    "%matlab_plot_mode inline\n",
    "\n",
    "sqw_file = '/mnt/ceph-training/course_materials/sqw_files/iron.sqw'\n",
    "\n",
    "u = [1, 1, 0]\n",
    "v = [-1, 1, 0]\n",
    "offset = [0, 0, 0, 0]\n",
    "projtype = 'rrr'\n",
    "proj = m.line_proj(u, v, 'offset', offset, 'type', projtype)\n",
    "\n",
    "my_slice = m.cut_sqw(sqw_file, proj, [-3,0.05,3], [-1.1,-0.9], [-0.1,0.1], [0,4,280])\n",
    "m.plot(my_slice)\n",
    "m.lz(0, 1)\n",
    "m.keep_figure()\n",
    "\n",
    "m.tic()\n",
    "my_cut = m.cut_sqw(sqw_file, proj, [-3,0.05,3], [-1.1,-0.9], [-0.1,0.1], [130,150])\n",
    "tcut = m.toc()\n",
    "print(f'Cut took {tcut} s from disk')\n",
    "m.plot(my_cut)\n",
    "m.keep_figure()\n"
   ]
  },
  {
   "cell_type": "code",
   "execution_count": null,
   "id": "8d8c784a-cb2d-403b-ba19-67d899f3a7d3",
   "metadata": {},
   "outputs": [],
   "source": [
    "# Now we make the cut again, but from the slice (which is memory)\n",
    "# Note that because the slice in memory is 2D, we only give two sets of numbers to the\n",
    "# \"cut\" command, because the other dimensions have already been integrated over.\n",
    "# In this case because we integrated over the \"v\" and \"w\" directions, we only have the\n",
    "# \"u\" and \"energy\" directions.\n",
    "\n",
    "m.tic()\n",
    "my_cut2 = m.cut(my_slice, ?, ?)\n",
    "tmem = m.toc()\n",
    "m.plot(my_cut2)\n",
    "print(f'Cut took {tmem} s from memory')"
   ]
  },
  {
   "cell_type": "markdown",
   "id": "d654f36c-8e1d-4fd0-8b4d-1d183ba0644f",
   "metadata": {},
   "source": [
    "You should see that the cut from memory is exactly the same but takes significantly shorter time.\n",
    "\n",
    "In addition to being faster, some Horace functions (especially those related to resolution convolution) require the pixel information in an `sqw` object and will not work with a `dnd` object."
   ]
  },
  {
   "cell_type": "markdown",
   "id": "028b662f-af09-4337-bce9-115db6a07ea6",
   "metadata": {},
   "source": [
    "----"
   ]
  },
  {
   "cell_type": "markdown",
   "id": "7c7ff813-4ff6-429b-b399-c126c463308d",
   "metadata": {},
   "source": [
    "We're now going to look at how to correct for slight misalignments of the crystal in an experiment, using the bcc-Iron dataset.\n",
    "\n",
    "The procedure is as follows:\n",
    "\n",
    "1. Make a series of reciprocal space maps integrating over the elastic line (in the case of bcc-Iron, with `Ei=400`, a value of `[-5,5]` integrating between -10 and +10 meV is good), along different H, K and L directions/planes to identify the Bragg peaks in the data.\n",
    "2. Use the function `bragg_positions` to make and then fit transverse and radial cuts of these peaks (the function will make the cuts and do the fit for you but you need to give it the integration ranges along and perpendicular to the Q direction - you can check the [help on it here](https://pace-neutrons.github.io/Horace/unstable/manual/Correcting_for_sample_misalignment.html#bragg-positions). As a good rule of thumb, you want the cut lengths to be a bit less than a single reciprocal lattice vector, the cut width (bin size) to be as small as will give good stats, and the cut thickness to be around a third to a half of a reciprocal lattice vector. Although you can use the `'bin_relative'` keyword to give these values in reciprocal lattice units (which is fine for iron because it is cubic), in general you want to use `'bin_absolute'` so all the cuts are the same thickness, bin size etc.\n",
    "3. Use the function `bragg_position_view` to look at the cuts and fit and check they are ok - if necessary, go back to the previous step and change the parameters to `bragg_positions`. (E.g. if you see multiple peaks or no peak in your cut or the data is too noisy).\n",
    "4. Use the function `refine_crystal` to obtain the alignment correction object. Help on [this function is here](https://pace-neutrons.github.io/Horace/unstable/manual/Correcting_for_sample_misalignment.html#step-3-calculate-the-misalignment-correction). If you want to ensure that Horace keeps a cubic structure you need to give the `'fix_angdeg'` (keeps the lattice angles at 90 degrees) and `'fix_alatt_ratio'` (to keep *a=b=c*) keywords.\n",
    "5. The output of `refine_crystal` can be fed into `change_crystal` which will apply the correction to the `sqw` file itself (note that you cannot change files in the \"course_materials\" folder so should copy the file to your home folder.\n",
    "6. Make the same cuts as step 1 and check the Bragg peaks are at their nominal positions.\n",
    "\n",
    "Instead of steps 5 and 6, you could use the function `crystal_pars_correct` to compute a set of goniometer angles corresponding to the alignment correction object generated by `refine_crystal` and use this in the `gen_sqw` step instead. [Help on this is here](https://pace-neutrons.github.io/Horace/unstable/manual/Correcting_for_sample_misalignment.html#option-2-calculate-goniometer-offsets-for-regeneration-of-sqw-file-s)"
   ]
  },
  {
   "cell_type": "code",
   "execution_count": null,
   "id": "c532df18-4703-4579-a4c6-3ffc27f53dc5",
   "metadata": {},
   "outputs": [],
   "source": [
    "# We'll make a set of reciprocal space maps in the [H-K], [K-L] and [H-L] \n",
    "# planes to see what Bragg peaks are in the data.\n",
    "\n",
    "proj = m.line_proj(?, ?, 'type', 'rrr')\n",
    "HKslice = m.cut_sqw(sqw_file, proj, ?, ?, ?, [-10,10],'-nopix')\n",
    "m.plot(m.compact(HKslice)); m.lz(0, 5000); m.keep_figure()\n",
    "\n",
    "KLslice = m.cut_sqw(sqw_file, proj, ?, ?, ?, [-10,10],'-nopix')\n",
    "m.plot(m.compact(KLslice)); m.lz(0, 5000); m.keep_figure()\n",
    "\n",
    "HLslice = m.cut_sqw(sqw_file, proj, ?, ?, ?, [-10,10],'-nopix')\n",
    "m.plot(m.compact(HLslice)); m.lz(0, 5000); m.keep_figure()"
   ]
  },
  {
   "cell_type": "code",
   "execution_count": null,
   "id": "a1b07e51-de7a-4e48-8e13-1a5d38e4da4f",
   "metadata": {
    "scrolled": true
   },
   "outputs": [],
   "source": [
    "# There's a bug in Horace where the parallelisation code gives an error for this function\n",
    "# So we turn it off below.\n",
    "m.hpc('off') \n",
    "\n",
    "# From the above data, pick a list of 5-6 Bragg peaks to fit using `bragg_positions`\n",
    "# This list is given as an Nx3 array\n",
    "bragg_peaks = [[?,?,?], [?,?,?], ?]\n",
    "\n",
    "rlu0, width, wcut, wpeak = m.bragg_positions(sqw_file, bragg_peaks, ?, ?, ?, ?, ?, ?, ?, 'gauss', ?'bin_')\n",
    "\n",
    "# Now use plot the fitted peaks:\n",
    "m.bragg_positions_view(wcut,wpeak)"
   ]
  },
  {
   "cell_type": "code",
   "execution_count": null,
   "id": "7f04852f-6925-4f07-b04e-23bff8f509fe",
   "metadata": {},
   "outputs": [],
   "source": [
    "# Determine corrections to lattice and orientation (in this example we choose\n",
    "# to keep the lattice angles fixed, but allow the lattice parameters to be\n",
    "# refined, keeping a cubic structure by keeping ratios of lattice pars to be same):\n",
    "\n",
    "alatt = [2.87, 2.87, 2.87]    # original lattice parameters\n",
    "angdeg = [90, 90, 90]\n",
    "rlu_corr = m.refine_crystal(rlu0, alatt, angdeg, bragg_peaks, 'fix_angdeg', 'fix_alatt_ratio')\n",
    "print(rlu_corr)"
   ]
  },
  {
   "cell_type": "code",
   "execution_count": null,
   "id": "a17fc37c-cb82-4682-9005-e8cebee7ad7b",
   "metadata": {},
   "outputs": [],
   "source": [
    "# Either apply the correction to the sqw file:\n",
    "# m.change_crystal(sqw_file, rlu_corr)\n",
    "\n",
    "# Or compute the goniometer angles:\n",
    "u = [1, 0, 0]  # Original orientation of the crystal, u||ki when psi=0\n",
    "v = [0, 1, 0]  # Original orientation of the crystal\n",
    "alatt_new, angdeg_new, dpsi, gl, gs = m.crystal_pars_correct(u, v, alatt, angdeg, 0, 0, 0, 0, rlu_corr)\n",
    "print(alatt_new)\n",
    "print(angdeg_new)\n",
    "print(f'dpsi={dpsi}, gl={gl}, gs={gs}')"
   ]
  },
  {
   "cell_type": "markdown",
   "id": "a84350d9-88da-400c-930d-90070327f5f7",
   "metadata": {},
   "source": [
    "----"
   ]
  },
  {
   "cell_type": "markdown",
   "id": "d7e7c972-9da9-4573-a9e8-07eaab78b5bf",
   "metadata": {},
   "source": [
    "The following section illustrates some advanced plotting features - the code all works and hopefully is well commented - just read it and see if you understand what it is doing."
   ]
  },
  {
   "cell_type": "code",
   "execution_count": null,
   "id": "b5318779-7a4d-4bcd-87ee-84a88fd2ee91",
   "metadata": {},
   "outputs": [],
   "source": [
    "# ========================================================================\n",
    "#             Advanced plotting and publication quality figures\n",
    "# ========================================================================\n",
    "# ========================================================================\n",
    "#                            \"Spaghetti\" plot\n",
    "# =========================================================================\n",
    "sqw_file = '/mnt/ceph-training/course_materials/sqw_files/iron.sqw'\n",
    "\n",
    "rlp = [[1,-1,0], [0,-2,0], [2,0,0], [1,1,0]]\n",
    "m.spaghetti_plot(rlp, sqw_file, 'qbin', 0.05, 'qwidth', 0.3, 'ebin', [0,4,250])\n",
    "m.lz(0, 2)"
   ]
  },
  {
   "cell_type": "code",
   "execution_count": null,
   "id": "7811c133-3c32-41ec-a275-143e184e510d",
   "metadata": {},
   "outputs": [],
   "source": [
    "# =========================================================================\n",
    "#                          Two dimensional plot\n",
    "# =========================================================================\n",
    "\n",
    "# Recreate the Q-E slice from earlier, this time without saving the pixel\n",
    "# information\n",
    "proj = m.line_proj([1,1,0], [-1,1,0], 'type', 'rrr')\n",
    "\n",
    "my_slice = m.cut_sqw(sqw_file, proj, [-3,0.05,3], [-1.1,-0.9], [-0.1,0.1], [0,4,280], '-nopix')\n",
    "\n",
    "# Plot the 2d slice first:\n",
    "m.plot(m.smooth(m.compact(my_slice)))\n",
    "\n",
    "# Set limits\n",
    "m.lx(-2, 2)\n",
    "m.ly(40, 250)\n",
    "m.lz(0, 0.5)\n",
    "\n",
    "# Make a nicer title\n",
    "m.title('My QE slice')\n",
    "\n",
    "# Label the axes with something nicer\n",
    "m.xlabel('(1+h,-1+h,0) (r.l.u.)')\n",
    "m.ylabel('Energy (meV)')\n",
    "\n",
    "# Get rid of the colour slider\n",
    "m.colorslider('delete')\n",
    "m.colorbar()\n",
    "\n",
    "# If we want to set the font sizes to be bigger, then we have to re-do the\n",
    "# above:\n",
    "m.title('My QE slice', 'FontSize', 16)\n",
    "m.xlabel('(1+h,-1+h,0) (r.l.u.)', 'FontSize', 16)\n",
    "m.ylabel('Energy (meV)', 'FontSize', 16)\n",
    "\n",
    "# To set the font size of the ticks, we need to access the figure's axes.\n",
    "my_handles = m.gca()\n",
    "# there are many things you can adjust! To set the font size, or any of the\n",
    "# other properties, do the following:\n",
    "m.set(my_handles, 'FontSize', 16)\n",
    "\n",
    "# Suppose we want to change what tick marks are used on the x-axis\n",
    "num2str = m.eval('@num2str')\n",
    "m.set(my_handles, 'XTick', np.arange(-2, 2.1, 0.5))\n",
    "m.set(my_handles, 'XTickLabel', m.arrayfun(num2str, np.arange(-2, 2.1, 0.5), 'UniformOutput', False))\n",
    "\n",
    "# Put some text on the figure:\n",
    "m.text(-0.5, 220, 'Ei = 400 meV', 'FontSize', 16)\n",
    "\n",
    "# Some fancier text to label the colour bar:\n",
    "tt = m.text(3.2, 240, 'Intensity (mb sr^{-1} meV^{-1} f.u.^{-1})', 'FontSize', 16)\n",
    "m.set(tt, 'Rotation', -90)"
   ]
  },
  {
   "cell_type": "code",
   "execution_count": null,
   "id": "1b866a2d-3435-4707-94d9-3d050b387657",
   "metadata": {},
   "outputs": [],
   "source": [
    "# =========================================================================\n",
    "#                          One dimensional plots\n",
    "# =========================================================================\n",
    "\n",
    "%matlab_plot_mode windowed\n",
    "\n",
    "# Make an array of 1d cuts:\n",
    "energy_range = range(80, 161, 20)\n",
    "# We first have to create an empty container of the correct size\n",
    "# In Matlab we can do: `my_cuts(1) = cut_sqw(...` to assign an array of objects\n",
    "# but Python needs to define the variable `my_cuts` first.\n",
    "my_cuts = m.sqw.empty()\n",
    "# Note that in the following, although we are using a Matlab container,\n",
    "# because we are in Python we use Python (0-based) indexing, not Matlab (1-based).\n",
    "for i, en in enumerate(energy_range):\n",
    "    my_cuts[i] = m.cut_sqw(sqw_file, proj, [-3,0.05,3], [-1.1,-0.9], [-0.1,0.1], [-10+en, 10+en])\n",
    "\n",
    "# plot them individually, to see what they look like first\n",
    "for i in range(len(energy_range)):\n",
    "    m.plot(my_cuts[i])\n",
    "    m.keep_figure()"
   ]
  },
  {
   "cell_type": "code",
   "execution_count": null,
   "id": "bf36096f-fd4a-468d-9f9b-6244e74b60a6",
   "metadata": {},
   "outputs": [],
   "source": [
    "%matlab_plot_mode inline\n",
    "\n",
    "# We want to plot them all on the same axes, with different colours and\n",
    "# markers.\n",
    "my_col = ['black', 'red', 'blue', 'green', 'yellow']\n",
    "my_mark = ['+', 'o', '*', '.', 'x', 's', 'd', '^', 'v', '>', '<', 'p', 'h']\n",
    "# note the above are all the possible choices!\n",
    "\n",
    "for i in range(len(my_cuts)):\n",
    "    m.acolor(my_col[i])\n",
    "    m.amark(my_mark[i])\n",
    "    if i == 1:\n",
    "        m.plot(my_cuts[i])\n",
    "    else:\n",
    "        # The pp command overplots (markers and errorbars) on existing 1d axes\n",
    "        m.pp(my_cuts[i])"
   ]
  },
  {
   "cell_type": "code",
   "execution_count": null,
   "id": "4402eabc-f12d-4283-ac9c-806683a5ee52",
   "metadata": {},
   "outputs": [],
   "source": [
    "# This is a bit messy. Let's add a constant offset between each cut, and make\n",
    "# the markers bigger\n",
    "my_offset = np.arange(0, 1.3, 0.3)\n",
    "for i in range(len(my_cuts)):\n",
    "    m.acolor(my_col[i])\n",
    "    m.amark(my_mark[i], 6)\n",
    "    if i == 1:\n",
    "        m.plot(my_cuts[i] + my_offset[i])\n",
    "    else:\n",
    "        m.pp(my_cuts[i] + my_offset[i])"
   ]
  },
  {
   "cell_type": "code",
   "execution_count": null,
   "id": "514c18ae-fcd0-4d99-913d-5d983662f166",
   "metadata": {},
   "outputs": [],
   "source": [
    "# But we could have done this much more cleanly using the vectorised capabilities\n",
    "# of Horace functions\n",
    "m.acolor(['black', 'red', 'blue', 'green', 'yellow'])\n",
    "m.amark(['+', 'o', '*', '.', 'x', 's'], 6)\n",
    "my_cut_offset = my_cuts + np.arange(0, 1.3, 0.3)\n",
    "m.dp(my_cut_offset)\n",
    "# Note that the above only works because we created a Matlab container.\n",
    "# If we had used a Python list all the code up to here would work but the\n",
    "# last two lines above would not, because the Matlab `plus` operator\n",
    "# and the `dp` function does not understand Python lists.\n",
    "\n",
    "# Now need to extend axes to see everything:\n",
    "m.lx(-2, 2)\n",
    "m.ly(0, 1.8)\n",
    "\n",
    "# Use the same settings as before to get nice font sizes\n",
    "m.title('Q cuts', 'FontSize', 16)\n",
    "m.xlabel('(1+h,-1+h,0) (r.l.u.)', 'FontSize', 16)\n",
    "m.ylabel('Intensity (mb sr^{-1} meV ^{-1} f.u.^{-1})', 'FontSize', 16)\n",
    "m.set(m.gca(), 'FontSize', 16)\n",
    "m.set(m.gca(), 'XTick', np.arange(-2, 2.1, 0.5))\n",
    "m.set(m.gca(), 'XTickLabel', m.arrayfun(num2str, np.arange(-2, 2.1, 0.5), 'UniformOutput', False))\n",
    "\n",
    "# Insert a figure legend\n",
    "m.legend('80 meV', '100 meV', '120 meV', '140 meV', '160 meV')\n",
    "\n",
    "# Reset the plot color to black\n",
    "m.acolor('k')"
   ]
  }
 ],
 "metadata": {
  "kernelspec": {
   "display_name": "Python 3 (ipykernel)",
   "language": "python",
   "name": "python3"
  },
  "language_info": {
   "codemirror_mode": {
    "name": "ipython",
    "version": 3
   },
   "file_extension": ".py",
   "mimetype": "text/x-python",
   "name": "python",
   "nbconvert_exporter": "python",
   "pygments_lexer": "ipython3",
   "version": "3.11.9"
  }
 },
 "nbformat": 4,
 "nbformat_minor": 5
}
