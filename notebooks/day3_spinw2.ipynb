{
 "cells": [
  {
   "cell_type": "code",
   "execution_count": null,
   "id": "dd1f9b68-ef04-46dd-a972-a459fc745c3d",
   "metadata": {},
   "outputs": [],
   "source": [
    "import numpy as np\n",
    "import matplotlib.pyplot as plt\n",
    "from pace_neutrons import Matlab\n",
    "m = Matlab()\n",
    "\n",
    "# Set SpinW to use mex files:\n",
    "swp = m.swpref()\n",
    "swp.usemex = 1"
   ]
  },
  {
   "cell_type": "markdown",
   "id": "fc55dd13-51b1-4832-bff0-f971401dd642",
   "metadata": {},
   "source": [
    "### Excercise 2: Triangular lattice antiferromagnet\n",
    "\n",
    "Create an empty `spinw` object with, and use the `genlattice` method ([docs](https://spinw.org/spinw_genlattice)) of this object to create a hexagonal lattice with parameters $a=b=3$ Å and $c=5$ Å ($α=β=90˚, γ=120˚$).\n",
    "\n",
    "Use the `addatom` method ([docs](https://spinw.org/spinw_genlattice)) to add a Ni$^{2+}$ ion with $S=1$ at $r=(0,0,0)$.\n",
    "\n",
    "Use the `gencoupling` method ([docs](https://spinw.org/spinw_gencoupling)) to generate the bonds up to 5 Å distance.\n",
    "\n",
    "Use the `addmatrix` method ([docs](https://spinw.org/spinw_addmatrix)) to add an exchange tensor ($3 \\times 3$ matrix) representing an antiferromagnetic Heisenberg exchange interaction of magnitude 1 meV, then use the `addcoupling` method ([docs](https://spinw.org/spinw_addmatrix)) to define the first (nearest neighbour bond) using this matrix (tensor).\n",
    "\n",
    "Plot your model and see that it represents a triangular lattice antiferromagnet (you should be able to click on the atoms and bonds to get information on them).\n",
    "\n",
    "Use the `genmagstr` method ([docs](https://spinw.org/spinw_genmagstr)) with the `'mode', 'helical'` option, `k=[1/3,1/3,0]`, `S=[[1],[0],[0]]` and `n=[0,0,1]` to create a 120˚ magnetic structure in the incommensurate representation.\n",
    "\n",
    "Calculate and plot the inelastic neutron spin wave spectrum.\n",
    "\n",
    "Add an easy-axis anisotropy in the a-b plane (perpendicular to $[0,0,1]$) with magnitude 0.1 meV using the `addmatrix` and `addaniso` methods ([docs](https://spinw.org/addaniso)) and recalculate and re-plot the INS spectrum. What is the difference between this and the previous spectrum you plotted? From this can you infer what fluctuations are associated with the different magnon modes in the spectrum? (How many modes are there in the spectrum?)\n"
   ]
  },
  {
   "cell_type": "code",
   "execution_count": null,
   "id": "12500e4f-d341-42bb-8430-4ad58bf159ae",
   "metadata": {},
   "outputs": [],
   "source": [
    "# Set up a triangular lattice AFM\n",
    "tri = m.spinw()\n",
    "tri.genlattice('lat_const', [?,?,?], 'angled', [?, ?, ?])\n",
    "tri.addatom('r', [0,0,0], 'S', 1, 'label', 'MNi2')\n",
    "tri.gencoupling('maxDistance', ?)\n",
    "tri.addmatrix('label', 'J', 'value', ?)\n",
    "tri.addcoupling('mat', 'J', 'bond', ?)\n",
    "m.plot(tri)"
   ]
  },
  {
   "cell_type": "code",
   "execution_count": null,
   "id": "d52363e9-4572-4745-8f39-cafbe45728e5",
   "metadata": {},
   "outputs": [],
   "source": [
    "# Generates a 120 deg structure\n",
    "tri.genmagstr('mode', 'helical', 'k', [?, ?, ?], 'S', [[?],[?],[?]], 'n', [?,?,?])\n",
    "m.plot(tri)"
   ]
  },
  {
   "cell_type": "code",
   "execution_count": null,
   "id": "3c1928d7-2165-45b1-af9e-58e102c72024",
   "metadata": {},
   "outputs": [],
   "source": [
    "# Plots the spin wave spectrum\n",
    "spec = m.spinwave(tri, ([0, 0, 0], [1, 1, 1], 200))\n",
    "spec = m.sw_egrid(spec)\n",
    "m.sw_plotspec(spec, 'dE', 0.1, 'legend', 0)"
   ]
  },
  {
   "cell_type": "code",
   "execution_count": null,
   "id": "9f43b8cd-5fec-4b81-8c56-9cd730d635cf",
   "metadata": {},
   "outputs": [],
   "source": [
    "# Add easy-plane SIA and recalculate spectrum\n",
    "tri.addmatrix('label', 'K', 'value', np.diag([?, ?, ?]))\n",
    "tri.addaniso('K')\n",
    "\n",
    "spec = tri.spinwave(([0, 0, 0], [1, 1, 1], 200))\n",
    "spec = m.sw_egrid(spec)\n",
    "m.sw_plotspec(spec, 'dE', 0.1, 'legend', 0)\n"
   ]
  },
  {
   "cell_type": "markdown",
   "id": "b6d976b0-decd-446e-a14b-995815afe654",
   "metadata": {},
   "source": [
    "Make a copy of `swobj` using the `copy` method ([docs](https://spinw.org/spinw_copy)) (the spinw object you just created – spinw objects are “handle” objects so with `swobj2 = swobj`, `swobj2` is just another handle to the original object – operations on `swobj2` actually operate on the same object as `swobj`. In Horace most objects are “value” objects where the `= (equals) operator creates a new copy). \n",
    "\n",
    "Using `genmagstr` on the copied object with the option `'nExt', 0.1` and the same parameters as before, create the same 120˚ magnetic structure but in the super-cell representation instead of the rotating frame (incommensurate) representation. Plot the model to check that it still looks like the 120˚ structure.\n",
    "\n",
    "Calculate and plot the INS spectrum – what’s the difference with the previous (incommensurate) case? (How many modes are plotted now?) Why is this?\n"
   ]
  },
  {
   "cell_type": "code",
   "execution_count": null,
   "id": "36f5fb97-563b-48cc-9cd6-1b30cddcc5ea",
   "metadata": {},
   "outputs": [],
   "source": [
    "# Make a copy of the spinw object and create a super-cell 120 deg structure\n",
    "tri2 = m.copy(tri)\n",
    "tri2.genmagstr('mode', 'helical', 'k', [?, ?, ?], 'S', [[?],[?],[?]], 'n', [?,?,?], 'nExt', 0.1)\n",
    "m.plot(tri2)"
   ]
  },
  {
   "cell_type": "code",
   "execution_count": null,
   "id": "20070106-dafe-4847-a179-5ef57844747e",
   "metadata": {},
   "outputs": [],
   "source": [
    "# Recalculate the spin wave dispersion\n",
    "spec = tri2.spinwave(([0, 0, 0], [1, 1, 1], 200))\n",
    "spec = m.sw_egrid(spec)\n",
    "m.sw_plotspec(spec, 'dE', 0.1, 'legend', 0)\n"
   ]
  },
  {
   "cell_type": "markdown",
   "id": "7fc0790c-d40f-45f1-a616-b390cf5f6d40",
   "metadata": {},
   "source": [
    "Add an _easy-axis_ anisotropy along the $a$ axis with magnitude 1 meV. Recalculate the INS spectrum – you should get an error message. Why does this occur?"
   ]
  },
  {
   "cell_type": "code",
   "execution_count": null,
   "id": "5293f471-dd1a-4de0-8140-f7ac69ae7e12",
   "metadata": {},
   "outputs": [],
   "source": [
    "# Add an easy-axis SIA\n",
    "tri2 = m.copy(tri)\n",
    "tri2.genmagstr('mode', 'helical', 'k', [?, ?, ?], 'S', [[?],[?],[?]], 'n', [?,?,?], 'nExt', 0.1)\n",
    "tri2.addmatrix('label', 'K2', 'value', np.diag([?, 0, 0]))\n",
    "tri2.addaniso('K2')\n",
    "m.plot(tri2)\n",
    "\n",
    "# Next line will error\n",
    "#spec = tri2.spinwave(([0, 0, 0], [1, 1, 1], 200))"
   ]
  },
  {
   "cell_type": "markdown",
   "id": "d209f135-591c-4904-8aa8-62fc4f98986a",
   "metadata": {},
   "source": [
    "Use the `'hermit', false` option to spinwave to force the calculation and plot the result using `sw_plotspec` ([docs](https://spinw.org/sw_plotspec)) with the `'imag', true` option to plot the energies of the imaginary modes.\n",
    "\n",
    "What’s the maximum energy of imaginary modes? \n",
    "\n",
    "If the maximum energy of the imaginary mode is small (~0.01-0.02 [a few percent] of the maximum energy of all the modes) then you can ignore the warning and the calculate spectrum is probably accurate enough. But if it is much larger then you should not trust the calculation."
   ]
  },
  {
   "cell_type": "code",
   "execution_count": null,
   "id": "3b5ef467-6781-42c4-9311-531c264149c0",
   "metadata": {},
   "outputs": [],
   "source": [
    "# Recalculate the spectrum\n",
    "spec = tri2.spinwave(([0, 0, 0], [1, 1, 1], 200), 'hermit', False, 'sortMode', False)\n",
    "m.sw_plotspec(spec, 'imag', True)"
   ]
  },
  {
   "cell_type": "markdown",
   "id": "39bcd61f-c8ed-46e7-9ec9-732013431932",
   "metadata": {},
   "source": [
    "Use the `optmagsteep` method ([docs](https://spinw.org/spinw_optmagsteep)) to refine the magnetic structure, and recalculate and replot the INS spectrum.\n",
    "\n",
    "Are the imaginary modes still there? What are the main differences you see now, compared to previously? Can you explain what the modes are now?"
   ]
  },
  {
   "cell_type": "code",
   "execution_count": null,
   "id": "72d45a92-149c-453a-a8c4-7d86f4c070ce",
   "metadata": {},
   "outputs": [],
   "source": [
    "tri2.optmagsteep()\n",
    "m.plot(tri2)"
   ]
  },
  {
   "cell_type": "code",
   "execution_count": null,
   "id": "94187bc0-8956-481b-a5a1-76d002ff7324",
   "metadata": {},
   "outputs": [],
   "source": [
    "spec = tri2.spinwave(([0, 0, 0], [1, 1, 1], 200), 'hermit', False, 'sortMode', False)\n",
    "spec = m.sw_egrid(spec)\n",
    "m.sw_plotspec(spec, 'dE', 0.1, 'legend', 0)"
   ]
  },
  {
   "cell_type": "markdown",
   "id": "18ce9600-9b70-4c35-ad02-3ee4c8647d6f",
   "metadata": {},
   "source": [
    "### Excercise 3: BiFeO$_3$\n",
    "\n",
    "In this exercise we’re going to look at BiFeO3 a distorted G-type (cubic) antiferromagnet, which has a long period (small k) cycloid magnetic structure as the result of the Dzyaloshinskii-Moriya interaction. The spin Hamiltonian and INS data is described in this paper: \n",
    "\n",
    "Magnetic Dispersion and Anisotropy in Multiferroic BiFeO3,\n",
    "M. Matsuda et al., Phys. Rev. Lett. 109 067205 (2012)\n",
    "\n",
    "https://web.ornl.gov/~okapon/manybodytheory/publication/pdf/PhysRevLett_109_067205.pdf"
   ]
  },
  {
   "cell_type": "code",
   "execution_count": null,
   "id": "c0efe2b8-57f4-479a-82e3-746632afd903",
   "metadata": {},
   "outputs": [],
   "source": [
    "# The aim of this tutorial is to calculate the propagation vector\n",
    "# of the cycloid of the multiferroic compound BiFeO3.\n",
    "#\n",
    "# BiFeO3 is a famous room-temperature multiferroic. It is a slightly\n",
    "# distorted perovskite structure. Its magnetic structure is a very\n",
    "# long period cycloid which is stabilised by a Dzyaloshinskii-Moriya\n",
    "# interaction. In the absence of the DM interaction, it would have\n",
    "# a simple G-type AFM structure.\n",
    "#\n",
    "# We will apply the DM interaction and use SpinW to calculate the\n",
    "# propagation vector k of the cycloid, using optmagk.\n",
    "\n",
    "# First we load the structure from CIF and plot the Fe-O octahedra\n",
    "bfo = m.spinw('/mnt/ceph-training/course_materials/spinw_files/BiFeO3.cif')\n",
    "m.plot(bfo, 'range', [1, 1, 1])\n",
    "m.swplot.plotchem('atom1', 'Fe Fe', 'atom2', 'O O', 'limit', 6);"
   ]
  },
  {
   "cell_type": "code",
   "execution_count": null,
   "id": "0427cf16-100a-443f-8d31-98beafeeef8f",
   "metadata": {},
   "outputs": [],
   "source": [
    "# Prints out the unit cell to check what the labels are:\n",
    "print(bfo.unit_cell)"
   ]
  },
  {
   "cell_type": "markdown",
   "id": "e656bf74-4480-4817-82e9-d1544ee134bd",
   "metadata": {},
   "source": [
    "1. Use `gencoupling`, `addmatrix` and `addcoupling` to define the nearest (J1=4.5 meV) and next nearest (J2=0.2 meV) neighbour couplings.\n",
    "\n",
    "   Note that the PRL paper uses the measured moment at 200K for the spin magnitude S value (4.1uB) which is a factor of 1.44 smaller than the theoretical spin moment used here (S=5/2) thus the exchange parameters should be scaled down by this amount as noted on page 4 of the PRL. (e.g. the J1 exchange in the PRL was 6.5 meV but we scale it down to 4.5meV)\n",
    "   \n",
    "   Plot the structure again and check it looks like fig 1 of the PRL."
   ]
  },
  {
   "cell_type": "code",
   "execution_count": null,
   "id": "fff4325d-a3f4-47a8-bbc4-c59d8a5a6556",
   "metadata": {},
   "outputs": [],
   "source": [
    "#%\n",
    "# SpinW is not able to infer which atom is magnetic so we manually specify\n",
    "# here that the second atom is Fe3+ (changing its label to match the SpinW\n",
    "# form factor library name)\n",
    "bfo.unit_cell.S[1] = 2.5  # Note Python uses 0-based indexing, this is the second element\n",
    "bfo.unit_cell.label[1] = 'MFe3'\n",
    "\n",
    "# The PRL paper (and most spin wave models of BiFeO3) considers two\n",
    "# exchange interactions, a DM interaction and an axial single-ion\n",
    "# anisotropy. We will use the parameters in the PRL paper.\n",
    "\n",
    "\n",
    "J1 = ??;\n",
    "J2 = ??;\n",
    "\n",
    "bfo.gencoupling('maxDistance', 20)\n",
    "bfo.addmatrix('label', 'J1', 'value', J1, 'color', 'green')\n",
    "bfo.addmatrix('label', 'J2', 'value', J2, 'color', 'white')\n",
    "bfo.addcoupling('mat', 'J1', 'bond', 1)\n",
    "bfo.addcoupling('mat', 'J2', 'bond', 2)\n",
    "\n",
    "# Plots the unit cell - check it resembles fig 1 of paper\n",
    "m.plot(bfo)"
   ]
  },
  {
   "cell_type": "markdown",
   "id": "02ff9fff-be29-4d5a-b89e-488e81f0416b",
   "metadata": {},
   "source": [
    "2. Use `addmatrix` to define a DM interaction (read its help text) and the use `addcoupling` to add an addition nearest neighbour DM interaction. Use the same magnitude DM as in the paper (`D=0.1623 meV`).\n",
    "  \n",
    "   The DM vector is along `[1, -1, 0]` in the hexagonal unit cell we are using, and connects atoms along the spiral direction `[1 1 0]` (e.g. 2nd neighbours). This is equivalent to the psuedo-cubic `[1,1,-2]` direction which the PRL paper uses (in the cubic cell the sprial is along `[1, -1, 0]`). The principal axes in the two cells are: `[1 1 0]hex = [1 -1 0]pc`, and `[0 0 1]hex = [1 1 1]pc`.\n",
    "\n",
    "   Note SpinW can accommodate up to three difference exchange tensors per bond; the limit of 3 is just a hard-coded limit to save memory and can be extended (reprogrammed) if there is demand."
   ]
  },
  {
   "cell_type": "code",
   "execution_count": null,
   "id": "8298b3f4-2eff-4131-a8d0-53c69bebb418",
   "metadata": {},
   "outputs": [],
   "source": [
    "D = ??;\n",
    "\n",
    "# Now we add the DM term. SpinW has a short cut where if you give it\n",
    "# a 3-vector, it would interpret this as a DM vector and construct the\n",
    "# correct 3x3 exchange tensor.\n",
    "bfo.addmatrix('label', 'D', 'value', np.array([1, -1, 0])*D, 'color', [255, 225, 175])\n",
    "bfo.addcoupling('mat', 'D', 'bond', 2)\n",
    "\n",
    "# Print the exchange tensor for the DM interaction\n",
    "#id = find(~cellfun(@isempty, m.strfind(bfo.matrix.label, 'D')));\n",
    "id = [idx for idx,lb in enumerate(bfo.matrix.label) if 'D' in lb]\n",
    "print(np.squeeze(bfo.matrix.mat[:,:,id]))"
   ]
  },
  {
   "cell_type": "markdown",
   "id": "9aa25caf-e765-48b6-9780-b9920f8d236d",
   "metadata": {},
   "source": [
    "3. Use addmatrix and addaniso to add an easy-axis anisotropy along the (hexagonal) c axis of magnitude `K=0.0068 meV` (remember the SpinW convention of negative values for easy-axis and positive values for easy-plane anisotropy)."
   ]
  },
  {
   "cell_type": "code",
   "execution_count": null,
   "id": "49a8b05a-e600-42f9-be9c-cd8e7178cd7a",
   "metadata": {},
   "outputs": [],
   "source": [
    "K = ??\n",
    "\n",
    "# Finally add the single-ion anisotropy\n",
    "bfo.addmatrix('label', 'K', 'value', np.diag([0, 0, K]), 'color', [185, 135, 0])\n",
    "bfo.addaniso('K')"
   ]
  },
  {
   "cell_type": "markdown",
   "id": "08c20091-702a-48db-a9e4-746e7cecbb6e",
   "metadata": {},
   "source": [
    "4. Use `optmagk` to optimise the incommensurate propagation vector k, both using the `'kbase'` option (the propogation vector is expected to be along `[[1], [1], [0]]`). Run the calculations a few times and compare the ground state energy E of the different approaches as well as the inferred k vector. What do you notice?"
   ]
  },
  {
   "cell_type": "code",
   "execution_count": null,
   "id": "61d6c665-32a3-4897-8ef2-8d06bea2b7ed",
   "metadata": {},
   "outputs": [],
   "source": [
    "# Now optimise the propagation vector.\n",
    "# We know that it should be qm = [[delta], [delta], [0]] so we give optmagk\n",
    "# a helping hand by setting this as a basis vector\n",
    "res = bfo.optmagk('kbase', [[?], [?], [?]])\n",
    "print(res['k'])\n",
    "print(bfo.energy())"
   ]
  },
  {
   "cell_type": "markdown",
   "id": "b7708545-fa2a-49f7-8854-79d21016ba75",
   "metadata": {},
   "source": [
    "You should find `k = [0.0036 0.0036 0]` or `[0.9964 0.9964 0]` because there is no energetic difference between `k` and `1-k`. However, `delta=0.0036` is quite different from `delta=0.0045` that we were expecting.\n",
    "\n",
    "This is because the propogation vector determined by SpinW here assumes a “harmonic” cycloid – that is that the ordered structure can be described by a single phase term `S_i = S0.exp(ik.r_i)`. \n",
    "\n",
    "In BiFeO3 when the SIA is included, the cycloid structure is no longer harmonic, but instead acquires additional modulations because the spins prefer to align along the easy-axis direction and so “bunches” up at those points such that `S_i = S0.exp(i phi_i)` where\n",
    "`phi_i = k.r_i + psi_i`, and `psi_i` is proportional to `sin(2k.r_i)`.Given then, what value of D should you choose to get the experimental propagation vector?"
   ]
  },
  {
   "cell_type": "markdown",
   "id": "4fdd0d6e-73ac-476e-a014-da58e9ed0022",
   "metadata": {},
   "source": [
    "5. What happens if we don't set the basis vector as `[[1], [1], [0]]`?\n",
    "\n",
    "What about the energy of this ground state compared to the one with `kbase=[[1], [1], [0]]`?\n"
   ]
  },
  {
   "cell_type": "code",
   "execution_count": null,
   "id": "c6115df8-2567-4635-aea9-9b8f0780f110",
   "metadata": {},
   "outputs": [],
   "source": [
    "res = bfo.optmagk() #without giving 'kbase' option\n",
    "print(res['k'])\n",
    "print(bfo.energy())"
   ]
  },
  {
   "cell_type": "markdown",
   "id": "16b116bc-b1df-4369-8493-2b2737139934",
   "metadata": {},
   "source": [
    "The algorithm sometimes gets stuck in local minima where the propagation vector is not along `[1 1 0]` – but the ground state energy of these configurations are always higher than that with the propagation vector along `[1 1 0]`. Using the `'kbase'` option forces the algorithm to always choose vectors along `[1 1 0]` and hence avoid the local minima."
   ]
  },
  {
   "cell_type": "markdown",
   "id": "63d21354-a8b1-4295-8a39-885904f7b28b",
   "metadata": {},
   "source": [
    "6. We can adjust `D` to get a modulation vector closer to `delta=0.0045`.\n",
    "\n",
    "   Including the effects of the anharmonicity is not possible in SpinW, except through the use of a large supercell (as in the Matsuda paper). The computational cost, for BiFeO3 is prohibitive due to the long wavelength of the cycloid (the calculations in the Matsuda paper used an optimised code on a cluster).\n",
    "\n",
    "   Calculations with SpinW are thus restricted to the `K=0` limit. Using figure 5 of the PRL paper, looking at the point where `K=0` (e.g. for zero single-ion anisotropy and hence having a harmonic cycloid) the paper suggests that a value of `D=0.185` should be used. "
   ]
  },
  {
   "cell_type": "code",
   "execution_count": null,
   "id": "8e1c1815-cb9e-4620-9b82-a046c77b5615",
   "metadata": {},
   "outputs": [],
   "source": [
    "# Code below can also change values of J1, J2 and K if you want\n",
    "J1new = J1\n",
    "J2new = J2\n",
    "Knew = K\n",
    "Dnew = ?\n",
    "\n",
    "# Substitute in new parameter values\n",
    "bfo.matparser('mat', ('J1', 'J2', 'K(3,3)'), 'param', [J1mew, J2new, Knew]);\n",
    "# For the DM vector we have to put in the matrix explicitly when using matparser\n",
    "dmmat = [[0, 0, 1], [0, 0, 1], [-1, -1, 0]];\n",
    "bfo.matparser('mat', ('D',), 'selector', dmmat, 'param', [Dnew,]);\n",
    "\n",
    "# Optimise the propagation vector again\n",
    "res = bfo.optmagk('kbase', [[?], [?], [?]])\n",
    "print(res['k'])\n",
    "\n",
    "m.plot(bfo)"
   ]
  },
  {
   "cell_type": "markdown",
   "id": "f763f65a-2b42-494a-ab0a-9bb8e10375fd",
   "metadata": {},
   "source": [
    "7. Calculate the spin wave dispersion around the propagation vector from the (111) Bragg peak with the `'hermit', false` option and see where the imaginary eigenvalues are (you will have to zoom in to below 2meV)."
   ]
  },
  {
   "cell_type": "code",
   "execution_count": null,
   "id": "b7285453-60f1-44fc-b961-4813346f8484",
   "metadata": {},
   "outputs": [],
   "source": [
    "spec = bfo.spinwave(([0.98, 0.98, 1], [1.02, 1.02, 1], 200), 'hermit', False)\n",
    "m.sw_plotspec(spec)\n",
    "m.ylim([0, 3])"
   ]
  },
  {
   "cell_type": "markdown",
   "id": "d8be762f-1e01-4b79-bbf6-630bb8c23d45",
   "metadata": {},
   "source": [
    "You should see some imaginary modes – `optmagk` produces a cycloid but left the initial magnetic structure as moments parallel to the c axis. In addition to creating the cycloid, however, the DM interaction induces a very small canting which is not initially satisfied leaving a small non-hermicity.\n",
    "\n",
    "This canting is probably not physical but just a result of the calculation – it is like relaxing a crystal structure in a DFT phonon calculation; the relaxed structure will not be exactly like the experimental structure but you should still used the relaxed structure because it agrees better with the calculated forces (for DFT phonon calculations) or exchanges (for spin wave calculations). This is because your calculations may not include all the necessary interactions to reproduce the full experimental observations. "
   ]
  },
  {
   "cell_type": "markdown",
   "id": "c9bbd139-1798-4aa7-99ed-5f4da63c7ec6",
   "metadata": {},
   "source": [
    "8. Run `optmagsteep` you should see this small canting and the imaginary modes go away. "
   ]
  },
  {
   "cell_type": "code",
   "execution_count": null,
   "id": "ad0716c4-ce8c-469a-b1d3-5fffab62f714",
   "metadata": {},
   "outputs": [],
   "source": [
    "print(\"Initial magnetic structure\")\n",
    "print(np.round(bfo.magstr()['S'],2))\n",
    "\n",
    "bfo.optmagsteep()\n",
    "\n",
    "print(\"Magnetic structure after optmagsteep\")\n",
    "print(np.round(bfo.magstr()['S'],2))\n",
    "\n",
    "# Now plot the spin wave dispersion again. Verify the imaginary\n",
    "# energies are gone.\n",
    "spec = bfo.spinwave(([0.98, 0.98, 1], [1.02, 1.02, 1], 200), 'hermit', False)\n",
    "m.sw_plotspec(spec)\n",
    "m.ylim([0, 3])"
   ]
  }
 ],
 "metadata": {
  "kernelspec": {
   "display_name": "Python 3 (ipykernel)",
   "language": "python",
   "name": "python3"
  },
  "language_info": {
   "codemirror_mode": {
    "name": "ipython",
    "version": 3
   },
   "file_extension": ".py",
   "mimetype": "text/x-python",
   "name": "python",
   "nbconvert_exporter": "python",
   "pygments_lexer": "ipython3",
   "version": "3.11.9"
  }
 },
 "nbformat": 4,
 "nbformat_minor": 5
}
