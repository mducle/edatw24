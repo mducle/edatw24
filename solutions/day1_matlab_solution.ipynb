{
 "cells": [
  {
   "cell_type": "code",
   "execution_count": 1,
   "id": "54a8ccaf-172a-4aab-b7ba-8325dcddf91f",
   "metadata": {},
   "outputs": [
    {
     "name": "stdout",
     "output_type": "stream",
     "text": [
      "Trying MATLAB version: 2022b (/mnt/ceph-training/course_materials/pace_env/lib/python3.11/site-packages/pace_neutrons/ctfs/pace_2022b.ctf))\n",
      "Searching for Matlab 9.13 in /opt/matlab2021b\n",
      "Searching for Matlab 9.13 in /opt\n",
      "Trying MATLAB version: 2021b (/mnt/ceph-training/course_materials/pace_env/lib/python3.11/site-packages/pace_neutrons/ctfs/pace_2021b.ctf))\n",
      "Searching for Matlab 9.11 in /opt/matlab2021b\n",
      "Found Matlab 9.11 glnxa64 at /opt/matlab2021b\n",
      "Interface opened\n",
      "Warning: herbert_config has been rendered obsolete and has been removed. \n",
      "All features have moved to hor_config\n",
      "\n",
      "Warning: Cannot find test path, possible failed setup\n",
      "\n",
      "!==================================================================!\n",
      "!          ISIS utilities for visualization and analysis           !\n",
      "\n",
      "Warning: herbert_config has been rendered obsolete and has been removed. \n",
      "All features have moved to hor_config\n",
      "\n",
      "!==================================================================!\n",
      "!                           Horace 4.0.0                           !\n",
      "\n",
      "!------------------------------------------------------------------!\n",
      "!   Visualisation of multi-dimensional neutron spectroscopy data   !\n",
      "\n",
      "!           R.A. Ewings, A. Buts, M.D. Le, J van Duijn,            !\n",
      "!                  I. Bustinduy, and T.G. Perring                  !\n",
      "!                                                                  !\n",
      "!             Nucl. Inst. Meth. A 834, 132-142 (2016)              !\n",
      "!                                                                  !\n",
      "!           http://dx.doi.org/10.1016/j.nima.2016.07.036           !\n",
      "!------------------------------------------------------------------!\n",
      "\n"
     ]
    }
   ],
   "source": [
    "# First we import the module and start up the Matlab interpreter\n",
    "\n",
    "import os\n",
    "import numpy as np\n",
    "from pace_neutrons import Matlab\n",
    "m = Matlab()"
   ]
  },
  {
   "cell_type": "markdown",
   "id": "246e1597-918e-4b77-8bfd-e2b9ba992163",
   "metadata": {},
   "source": [
    "We will now run through some examples in the \"getting started\" guide to Matlab (at: https://www.mathworks.com/help/matlab/getting-started-with-matlab.html ), and see how it changes in Python under `libpymcr`.\n",
    "\n",
    "First we define some arrays ( https://www.mathworks.com/help/matlab/learn_matlab/matrices-and-arrays.html ). Note that Matlab functions such as `zeros`, `sin`, `inv` must be prefixed with an `m.` in `libpymcr`.\n",
    "\n",
    "The Matlab commands are given in comments - you should translate them to the Python/libpymcr equivalent and run the cell.\n",
    "\n",
    "For the transpose operation, you cannot use the `'` operator like in Matlab. You can either use `numpy` and the `.T` property or use the Matlab `transpose` function.\n",
    "\n",
    "Note that in Matlab the `*` operator is matrix-multiplication which is the `@` operator in numpy, whereas the `.*` operator is simple element-wise multiplication (which in Python/numpy is the `*` operator).\n",
    "\n",
    "Finally note that in Jupyter notebooks, you have to explicitly `print` variables to the screen."
   ]
  },
  {
   "cell_type": "code",
   "execution_count": 2,
   "id": "48530e62-b272-4ebd-99ce-aea3f77dceed",
   "metadata": {},
   "outputs": [],
   "source": [
    "#a = [1 3 5; 2 4 6; 7 8 10]\n",
    "#z = zeros(5,1)\n",
    "#a + 10\n",
    "#sin(a)\n",
    "#a'\n",
    "#p = a*inv(a)\n",
    "#p = a.*a\n",
    "#a.^3\n",
    "#A = [a,a]\n",
    "#A = [a; a]\n",
    "#sqrt(-1)\n",
    "#c = [3+4i, 4+3j; -i, 10j]"
   ]
  },
  {
   "cell_type": "code",
   "execution_count": 3,
   "id": "4eb7e538-2b7a-40c7-be7b-a6e9a5893c42",
   "metadata": {},
   "outputs": [
    {
     "name": "stdout",
     "output_type": "stream",
     "text": [
      "[[1, 3, 5], [2, 4, 6], [7, 8, 10]]\n"
     ]
    }
   ],
   "source": [
    "a = [[1, 3, 5], [2, 4, 6], [7, 8, 10]]\n",
    "print(a)"
   ]
  },
  {
   "cell_type": "code",
   "execution_count": 4,
   "id": "705bcff7-927c-4faa-9ae6-cf8f270364ad",
   "metadata": {},
   "outputs": [
    {
     "name": "stdout",
     "output_type": "stream",
     "text": [
      "[[0.]\n",
      " [0.]\n",
      " [0.]\n",
      " [0.]\n",
      " [0.]]\n"
     ]
    }
   ],
   "source": [
    "z = m.zeros(5,1)\n",
    "print(z)"
   ]
  },
  {
   "cell_type": "code",
   "execution_count": 5,
   "id": "d46fd79d-fd48-4286-90a9-c448a2066c40",
   "metadata": {},
   "outputs": [
    {
     "name": "stdout",
     "output_type": "stream",
     "text": [
      "[[11 13 15]\n",
      " [12 14 16]\n",
      " [17 18 20]]\n",
      "[[ 0.84147098  0.14112001 -0.95892427]\n",
      " [ 0.90929743 -0.7568025  -0.2794155 ]\n",
      " [ 0.6569866   0.98935825 -0.54402111]]\n",
      "[[ 1.  2.  7.]\n",
      " [ 3.  4.  8.]\n",
      " [ 5.  6. 10.]]\n",
      "[[ 1.00000000e+00  2.66453526e-15  0.00000000e+00]\n",
      " [-1.77635684e-15  1.00000000e+00  0.00000000e+00]\n",
      " [ 1.77635684e-15 -8.88178420e-15  1.00000000e+00]]\n"
     ]
    }
   ],
   "source": [
    "print(np.array(a) + 10)\n",
    "print(m.sin(a))\n",
    "print(m.transpose(a))\n",
    "\n",
    "p = a @ m.inv(a)\n",
    "print(p)"
   ]
  },
  {
   "cell_type": "code",
   "execution_count": 6,
   "id": "ce2f5fd2-d0a8-4f5d-ac93-3ca656d705b2",
   "metadata": {},
   "outputs": [
    {
     "name": "stdout",
     "output_type": "stream",
     "text": [
      "[[  1   9  25]\n",
      " [  4  16  36]\n",
      " [ 49  64 100]]\n"
     ]
    }
   ],
   "source": [
    "p = np.array(a) * a  # Only one side of this operator need be an array\n",
    "print(p)"
   ]
  },
  {
   "cell_type": "code",
   "execution_count": 7,
   "id": "5daba73f-ec87-4b3a-9aaa-6471ba1f9b12",
   "metadata": {},
   "outputs": [
    {
     "name": "stdout",
     "output_type": "stream",
     "text": [
      "[[   1   27  125]\n",
      " [   8   64  216]\n",
      " [ 343  512 1000]]\n"
     ]
    }
   ],
   "source": [
    "print(np.array(a)**3)"
   ]
  },
  {
   "cell_type": "code",
   "execution_count": 8,
   "id": "eae4ce3e-d38a-4316-8018-0c63363f7ada",
   "metadata": {},
   "outputs": [
    {
     "name": "stdout",
     "output_type": "stream",
     "text": [
      "[[ 1  3  5  1  3  5]\n",
      " [ 2  4  6  2  4  6]\n",
      " [ 7  8 10  7  8 10]]\n"
     ]
    }
   ],
   "source": [
    "A = np.hstack( (a,a) )  # List also work, e.g. np.hstack( [a, a] )\n",
    "print(A)"
   ]
  },
  {
   "cell_type": "code",
   "execution_count": 9,
   "id": "d60bfbb6-ad8c-460e-9bfb-c3ef737a7bc7",
   "metadata": {},
   "outputs": [
    {
     "name": "stdout",
     "output_type": "stream",
     "text": [
      "[[ 1  3  5]\n",
      " [ 2  4  6]\n",
      " [ 7  8 10]\n",
      " [ 1  3  5]\n",
      " [ 2  4  6]\n",
      " [ 7  8 10]]\n"
     ]
    }
   ],
   "source": [
    "A = np.vstack( (a, a) )\n",
    "print(A)"
   ]
  },
  {
   "cell_type": "code",
   "execution_count": 10,
   "id": "8d242fe5-cbc4-462d-b780-10e3ee85eed3",
   "metadata": {},
   "outputs": [
    {
     "name": "stdout",
     "output_type": "stream",
     "text": [
      "[[0.+1.j]]\n",
      "[[(3+4j), (4+3j)], [(-0-1j), 10j]]\n"
     ]
    }
   ],
   "source": [
    "print(m.sqrt(-1))  # Or use Numpy with explicit complex number, e.g. np.sqrt(-1+0j)\n",
    "\n",
    "c = [[3+4j, 4+3j], [-1j, 10j]]  # Imaginary literal must be [number]j (i does not work)\n",
    "print(c)"
   ]
  },
  {
   "cell_type": "markdown",
   "id": "d24434e3-fcbb-4f21-85f5-1db627104c46",
   "metadata": {},
   "source": [
    "Now we run through the Array Indexing ( https://www.mathworks.com/help/matlab/learn_matlab/array-indexing.html ) examples:"
   ]
  },
  {
   "cell_type": "code",
   "execution_count": 11,
   "id": "04451e4f-ef36-40ce-9622-0abdd173904f",
   "metadata": {},
   "outputs": [],
   "source": [
    "#A = [1 2 3 4; 5 6 7 8; 9 10 11 12; 13 14 15 16]\n",
    "#A(4,2)\n",
    "#A(8)\n",
    "#A(4,5) = 17\n",
    "#A(1:3,2)\n",
    "#A(3,:)\n",
    "#B = 0:10:100"
   ]
  },
  {
   "cell_type": "code",
   "execution_count": 12,
   "id": "ac79b82b-e70d-48fd-8e27-37330a8c81e0",
   "metadata": {},
   "outputs": [
    {
     "name": "stdout",
     "output_type": "stream",
     "text": [
      "[[ 1  2  3  4]\n",
      " [ 5  6  7  8]\n",
      " [ 9 10 11 12]\n",
      " [13 14 15 16]]\n",
      "14\n",
      "14\n"
     ]
    }
   ],
   "source": [
    "A = np.array([[1, 2, 3, 4], [5, 6, 7, 8], [9, 10, 11, 12], [13, 14, 15, 16]])\n",
    "print(A)\n",
    "print(A[3,1])\n",
    "print(A.flatten('F')[7])\n",
    "# A(4,2) and A(8) point to the same element, but Matlab uses column-major (Fortran-style)\n",
    "# memory layout whereas numpy use row-major (C-style) memory layout, so to flatten it\n",
    "# for indexing you have to speficy Fortran-style ('F')."
   ]
  },
  {
   "cell_type": "code",
   "execution_count": 13,
   "id": "5b7883cb-c52c-41fb-b019-789332fec4d7",
   "metadata": {},
   "outputs": [
    {
     "name": "stdout",
     "output_type": "stream",
     "text": [
      "[[ 1  2  3  4  0]\n",
      " [ 5  6  7  8  0]\n",
      " [ 9 10 11 12  0]\n",
      " [13 14 15 16 17]]\n"
     ]
    }
   ],
   "source": [
    "# There is no easy way to extend a matrix by indexing outside its bounds in Python like in Matlab.\n",
    "A = np.hstack((A, np.array([[0],[0],[0],[17]])))\n",
    "print(A)"
   ]
  },
  {
   "cell_type": "code",
   "execution_count": 14,
   "id": "4aed8030-37e7-4099-80fe-8e24b14972a0",
   "metadata": {},
   "outputs": [
    {
     "name": "stdout",
     "output_type": "stream",
     "text": [
      "[ 2  6 10]\n",
      "[ 9 10 11 12  0]\n"
     ]
    }
   ],
   "source": [
    "# Slices/views work the same in Matlab and numpy, \n",
    "# except for the 0-based (numpy) vs 1-based (Matlab) indexing,\n",
    "# and the range being exclusive of the final index (numpy) vs inclusive (Matlab)\n",
    "# e.g. A[0:3] in Python means the elements A[0], A[1], A[2];\n",
    "# whilst A(1:3) in Matlab means A(1), A(2), A(3);\n",
    "print(A[:3,1])\n",
    "print(A[2,:])"
   ]
  },
  {
   "cell_type": "code",
   "execution_count": 15,
   "id": "ef614eb0-e34e-4f18-a1d7-a065adbb8018",
   "metadata": {},
   "outputs": [
    {
     "name": "stdout",
     "output_type": "stream",
     "text": [
      "[0, 10, 20, 30, 40, 50, 60, 70, 80, 90, 100]\n"
     ]
    }
   ],
   "source": [
    "B = range(0,101,10)  # Note range is up to but excluding final value\n",
    "print(list(B))"
   ]
  }
 ],
 "metadata": {
  "kernelspec": {
   "display_name": "Python 3 (ipykernel)",
   "language": "python",
   "name": "python3"
  },
  "language_info": {
   "codemirror_mode": {
    "name": "ipython",
    "version": 3
   },
   "file_extension": ".py",
   "mimetype": "text/x-python",
   "name": "python",
   "nbconvert_exporter": "python",
   "pygments_lexer": "ipython3",
   "version": "3.11.9"
  }
 },
 "nbformat": 4,
 "nbformat_minor": 5
}
